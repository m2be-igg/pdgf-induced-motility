{
 "cells": [
  {
   "cell_type": "code",
   "execution_count": 1,
   "id": "downtown-gazette",
   "metadata": {},
   "outputs": [],
   "source": [
    "from pathlib import Path\n",
    "import pandas as pd\n",
    "import numpy as np\n",
    "from scipy import io as sio\n",
    "import seaborn as sns\n",
    "import matplotlib.pyplot as plt\n",
    "\n",
    "import physipy"
   ]
  },
  {
   "cell_type": "markdown",
   "id": "sexual-digit",
   "metadata": {},
   "source": [
    "## Chemotaxis 96 hours experiments"
   ]
  },
  {
   "cell_type": "code",
   "execution_count": 76,
   "id": "established-christopher",
   "metadata": {},
   "outputs": [],
   "source": [
    "def read_results_into_df(output_path):\n",
    "    variables = ['position_y']\n",
    "    all_cells = []\n",
    "    replicates = list(output_path.glob('output*'))\n",
    "    number_of_output_files = len(list(replicates[0].glob('output*.xml')))\n",
    "\n",
    "    for replicate in replicates[:3]:\n",
    "        for timestep in range(number_of_output_files):\n",
    "            cell_data = physipy.get_cell_data(timestep, replicate, variables)\n",
    "            cell_df = pd.DataFrame(cell_data)\n",
    "            cell_df['day'] = timestep\n",
    "            cell_df['replicate'] = replicate\n",
    "            all_cells.append(cell_df)\n",
    "\n",
    "    cells_df = pd.concat([df for df in all_cells])\n",
    "\n",
    "    return cells_df\n",
    "\n",
    "def read_experimental_data(experimental_conditions):\n",
    "    # Store data from all conditions in a dict\n",
    "    data = {}\n",
    "\n",
    "    for condition in experimental_conditions:\n",
    "        # Load file\n",
    "        mat_path = DATA_PATH / f'{FILE_STEM}{condition}.mat'\n",
    "        mat_file = sio.loadmat(mat_path)\n",
    "        distance_to_monolayer = mat_file['glob_dist2mono']\n",
    "\n",
    "        # Format the data from four columns to two columns\n",
    "        # One column will contain the distances and the other will contain the corresponding day\n",
    "        distance_to_monolayer = pd.melt(pd.DataFrame(distance_to_monolayer))\n",
    "        distance_to_monolayer.rename(columns={'variable': 'day', 'value': 'distance'},\n",
    "                                     inplace=True)\n",
    "        # Drop the NaN rows\n",
    "        distance_to_monolayer = distance_to_monolayer.dropna()\n",
    "        # Convert day column from 0 index notation\n",
    "        distance_to_monolayer['day'] = distance_to_monolayer['day'] + 1\n",
    "        distance_to_monolayer['distance'] = distance_to_monolayer['distance']\n",
    "        distance_to_monolayer['condition'] = condition\n",
    "\n",
    "        data[condition] = distance_to_monolayer\n",
    "        \n",
    "    data_df = pd.concat(data)\n",
    "\n",
    "    return data_df\n",
    "\n",
    "def fix_distance_baseline(data_df):\n",
    "    \"\"\"Computes new distance values based on the predicted monolayer location\"\"\"\n",
    "    \n",
    "    data_df['fixed_distance'] = np.NaN\n",
    "\n",
    "    # Select each condition and print info on minimum values\n",
    "    for condition in data_df.condition.unique():\n",
    "        condition_indexes = list(data_df[data_df['condition'] == condition].index)\n",
    "        condition_df = data_df.loc[condition_indexes]\n",
    "        minimum_values = condition_df.groupby('day')['distance'].describe()['min']\n",
    "        baseline_value = minimum_values.mean()\n",
    "        data_df.loc[condition_indexes, 'fixed_distance'] = \\\n",
    "            data_df.loc[condition_indexes, 'distance'] - baseline_value\n",
    "\n",
    "    data_df.loc[data_df['fixed_distance'] < 0, 'fixed_distance'] = 0\n",
    "    \n",
    "    return data_df\n",
    "\n",
    "FILE_STEM = 'multichip_data_'\n",
    "DATA_PATH = Path('./experimental_data')\n",
    "\n",
    "chemotaxis_conditions = ['control', 'cell_channel', 'opposite_channel']\n",
    "conditions_labels = ['Control', 'Monolayer chamber', 'Opposite chamber']\n",
    "\n",
    "chemotaxis_df = read_experimental_data(chemotaxis_conditions)\n",
    "chemotaxis_df = fix_distance_baseline(chemotaxis_df)\n",
    "control_df = chemotaxis_df[chemotaxis_df['condition'] == 'control'].copy()\n",
    "\n",
    "cells = pd.read_csv('../saved_dfs/chemo96_control_df.csv')\n",
    "\n",
    "#output = Path('../final_output/')\n",
    "#cells = read_results_into_df(output)"
   ]
  },
  {
   "cell_type": "code",
   "execution_count": 37,
   "id": "d71527f4",
   "metadata": {},
   "outputs": [
    {
     "data": {
      "text/html": [
       "<div>\n",
       "<style scoped>\n",
       "    .dataframe tbody tr th:only-of-type {\n",
       "        vertical-align: middle;\n",
       "    }\n",
       "\n",
       "    .dataframe tbody tr th {\n",
       "        vertical-align: top;\n",
       "    }\n",
       "\n",
       "    .dataframe thead th {\n",
       "        text-align: right;\n",
       "    }\n",
       "</style>\n",
       "<table border=\"1\" class=\"dataframe\">\n",
       "  <thead>\n",
       "    <tr style=\"text-align: right;\">\n",
       "      <th></th>\n",
       "      <th>day</th>\n",
       "      <th>distance</th>\n",
       "      <th>condition</th>\n",
       "      <th>fixed_distance</th>\n",
       "    </tr>\n",
       "  </thead>\n",
       "  <tbody>\n",
       "    <tr>\n",
       "      <th>0</th>\n",
       "      <td>1</td>\n",
       "      <td>251.2</td>\n",
       "      <td>cell_channel</td>\n",
       "      <td>190.0</td>\n",
       "    </tr>\n",
       "    <tr>\n",
       "      <th>1</th>\n",
       "      <td>1</td>\n",
       "      <td>200.0</td>\n",
       "      <td>cell_channel</td>\n",
       "      <td>138.8</td>\n",
       "    </tr>\n",
       "    <tr>\n",
       "      <th>2</th>\n",
       "      <td>1</td>\n",
       "      <td>196.8</td>\n",
       "      <td>cell_channel</td>\n",
       "      <td>135.6</td>\n",
       "    </tr>\n",
       "    <tr>\n",
       "      <th>3</th>\n",
       "      <td>1</td>\n",
       "      <td>171.2</td>\n",
       "      <td>cell_channel</td>\n",
       "      <td>110.0</td>\n",
       "    </tr>\n",
       "    <tr>\n",
       "      <th>4</th>\n",
       "      <td>1</td>\n",
       "      <td>225.6</td>\n",
       "      <td>cell_channel</td>\n",
       "      <td>164.4</td>\n",
       "    </tr>\n",
       "    <tr>\n",
       "      <th>...</th>\n",
       "      <td>...</td>\n",
       "      <td>...</td>\n",
       "      <td>...</td>\n",
       "      <td>...</td>\n",
       "    </tr>\n",
       "    <tr>\n",
       "      <th>1639</th>\n",
       "      <td>4</td>\n",
       "      <td>179.2</td>\n",
       "      <td>cell_channel</td>\n",
       "      <td>118.0</td>\n",
       "    </tr>\n",
       "    <tr>\n",
       "      <th>1640</th>\n",
       "      <td>4</td>\n",
       "      <td>136.0</td>\n",
       "      <td>cell_channel</td>\n",
       "      <td>74.8</td>\n",
       "    </tr>\n",
       "    <tr>\n",
       "      <th>1641</th>\n",
       "      <td>4</td>\n",
       "      <td>152.0</td>\n",
       "      <td>cell_channel</td>\n",
       "      <td>90.8</td>\n",
       "    </tr>\n",
       "    <tr>\n",
       "      <th>1642</th>\n",
       "      <td>4</td>\n",
       "      <td>169.6</td>\n",
       "      <td>cell_channel</td>\n",
       "      <td>108.4</td>\n",
       "    </tr>\n",
       "    <tr>\n",
       "      <th>1643</th>\n",
       "      <td>4</td>\n",
       "      <td>131.2</td>\n",
       "      <td>cell_channel</td>\n",
       "      <td>70.0</td>\n",
       "    </tr>\n",
       "  </tbody>\n",
       "</table>\n",
       "<p>1348 rows × 4 columns</p>\n",
       "</div>"
      ],
      "text/plain": [
       "      day  distance     condition  fixed_distance\n",
       "0       1     251.2  cell_channel           190.0\n",
       "1       1     200.0  cell_channel           138.8\n",
       "2       1     196.8  cell_channel           135.6\n",
       "3       1     171.2  cell_channel           110.0\n",
       "4       1     225.6  cell_channel           164.4\n",
       "...   ...       ...           ...             ...\n",
       "1639    4     179.2  cell_channel           118.0\n",
       "1640    4     136.0  cell_channel            74.8\n",
       "1641    4     152.0  cell_channel            90.8\n",
       "1642    4     169.6  cell_channel           108.4\n",
       "1643    4     131.2  cell_channel            70.0\n",
       "\n",
       "[1348 rows x 4 columns]"
      ]
     },
     "execution_count": 37,
     "metadata": {},
     "output_type": "execute_result"
    }
   ],
   "source": [
    "chemotaxis_df.loc['cell_channel']"
   ]
  },
  {
   "cell_type": "code",
   "execution_count": 77,
   "id": "058742cc",
   "metadata": {},
   "outputs": [],
   "source": [
    "median_control = control_df[control_df['day'] == 2]['fixed_distance'].median()\n",
    "\n",
    "cell_df = chemotaxis_df[chemotaxis_df['condition'] == 'cell_channel'].copy()\n",
    "median_cell = cell_df[cell_df['day'] == 2]['fixed_distance'].median()\n",
    "\n",
    "opposite_df = chemotaxis_df[chemotaxis_df['condition'] == 'opposite_channel'].copy()\n",
    "median_opposite = opposite_df[opposite_df['day'] == 2]['fixed_distance'].median()"
   ]
  },
  {
   "cell_type": "code",
   "execution_count": 78,
   "id": "20b6b398",
   "metadata": {},
   "outputs": [
    {
     "name": "stdout",
     "output_type": "stream",
     "text": [
      "96.8 143.60000000000002 201.2\n"
     ]
    }
   ],
   "source": [
    "print(median_control, median_cell, median_opposite)"
   ]
  },
  {
   "cell_type": "code",
   "execution_count": 79,
   "id": "a2728e95",
   "metadata": {},
   "outputs": [
    {
     "data": {
      "text/plain": [
       "48.34710743801656"
      ]
     },
     "execution_count": 79,
     "metadata": {},
     "output_type": "execute_result"
    }
   ],
   "source": [
    "cell_increase = (median_cell-median_control)/median_control*100\n",
    "cell_increase"
   ]
  },
  {
   "cell_type": "code",
   "execution_count": 80,
   "id": "e08addc5",
   "metadata": {},
   "outputs": [
    {
     "data": {
      "text/plain": [
       "107.85123966942147"
      ]
     },
     "execution_count": 80,
     "metadata": {},
     "output_type": "execute_result"
    }
   ],
   "source": [
    "opposite_increase = (median_opposite-median_control)/median_control*100\n",
    "opposite_increase"
   ]
  },
  {
   "cell_type": "code",
   "execution_count": 83,
   "id": "c84e296e",
   "metadata": {},
   "outputs": [
    {
     "name": "stdout",
     "output_type": "stream",
     "text": [
      "205.6775 449.19\n"
     ]
    }
   ],
   "source": [
    "chemotaxis_conditions = ['control_216h', 'factor_216h']\n",
    "\n",
    "chemotaxis_df = read_experimental_data(chemotaxis_conditions)\n",
    "chemotaxis_df = fix_distance_baseline(chemotaxis_df)\n",
    "\n",
    "# Fix the times at which the information was stored\n",
    "convert_days = {old: new \n",
    "                for old, new in zip(range(1, 9), [0, 1, 2, 3, 4, 7, 8, 9])}  \n",
    "\n",
    "chemotaxis_df['day'] = chemotaxis_df['day'].map(convert_days)\n",
    "control_df = chemotaxis_df[chemotaxis_df['condition'] == 'control_216h'].copy()\n",
    "\n",
    "median_control = control_df[control_df['day'] == 9]['fixed_distance'].median()\n",
    "\n",
    "opposite_df = chemotaxis_df[chemotaxis_df['condition'] == 'factor_216h'].copy()\n",
    "median_opposite = opposite_df[opposite_df['day'] == 9]['fixed_distance'].median()\n",
    "\n",
    "print(median_control, median_opposite)"
   ]
  },
  {
   "cell_type": "code",
   "execution_count": 84,
   "id": "746180ef",
   "metadata": {},
   "outputs": [
    {
     "data": {
      "text/plain": [
       "118.39530332681016"
      ]
     },
     "execution_count": 84,
     "metadata": {},
     "output_type": "execute_result"
    }
   ],
   "source": [
    "opposite_increase = (median_opposite-median_control)/median_control*100\n",
    "opposite_increase"
   ]
  },
  {
   "cell_type": "code",
   "execution_count": 93,
   "id": "25ab4df0",
   "metadata": {},
   "outputs": [
    {
     "data": {
      "text/html": [
       "<div>\n",
       "<style scoped>\n",
       "    .dataframe tbody tr th:only-of-type {\n",
       "        vertical-align: middle;\n",
       "    }\n",
       "\n",
       "    .dataframe tbody tr th {\n",
       "        vertical-align: top;\n",
       "    }\n",
       "\n",
       "    .dataframe thead th {\n",
       "        text-align: right;\n",
       "    }\n",
       "</style>\n",
       "<table border=\"1\" class=\"dataframe\">\n",
       "  <thead>\n",
       "    <tr style=\"text-align: right;\">\n",
       "      <th></th>\n",
       "      <th></th>\n",
       "      <th>day</th>\n",
       "      <th>distance</th>\n",
       "      <th>condition</th>\n",
       "      <th>fixed_distance</th>\n",
       "    </tr>\n",
       "  </thead>\n",
       "  <tbody>\n",
       "    <tr>\n",
       "      <th rowspan=\"5\" valign=\"top\">4mg_control</th>\n",
       "      <th>0</th>\n",
       "      <td>0</td>\n",
       "      <td>144.90</td>\n",
       "      <td>4mg_control</td>\n",
       "      <td>117.530</td>\n",
       "    </tr>\n",
       "    <tr>\n",
       "      <th>1</th>\n",
       "      <td>0</td>\n",
       "      <td>180.32</td>\n",
       "      <td>4mg_control</td>\n",
       "      <td>152.950</td>\n",
       "    </tr>\n",
       "    <tr>\n",
       "      <th>2</th>\n",
       "      <td>0</td>\n",
       "      <td>111.09</td>\n",
       "      <td>4mg_control</td>\n",
       "      <td>83.720</td>\n",
       "    </tr>\n",
       "    <tr>\n",
       "      <th>3</th>\n",
       "      <td>0</td>\n",
       "      <td>78.89</td>\n",
       "      <td>4mg_control</td>\n",
       "      <td>51.520</td>\n",
       "    </tr>\n",
       "    <tr>\n",
       "      <th>4</th>\n",
       "      <td>0</td>\n",
       "      <td>67.62</td>\n",
       "      <td>4mg_control</td>\n",
       "      <td>40.250</td>\n",
       "    </tr>\n",
       "    <tr>\n",
       "      <th>...</th>\n",
       "      <th>...</th>\n",
       "      <td>...</td>\n",
       "      <td>...</td>\n",
       "      <td>...</td>\n",
       "      <td>...</td>\n",
       "    </tr>\n",
       "    <tr>\n",
       "      <th rowspan=\"5\" valign=\"top\">4mg_factor</th>\n",
       "      <th>3435</th>\n",
       "      <td>3</td>\n",
       "      <td>172.27</td>\n",
       "      <td>4mg_factor</td>\n",
       "      <td>140.875</td>\n",
       "    </tr>\n",
       "    <tr>\n",
       "      <th>3436</th>\n",
       "      <td>3</td>\n",
       "      <td>218.96</td>\n",
       "      <td>4mg_factor</td>\n",
       "      <td>187.565</td>\n",
       "    </tr>\n",
       "    <tr>\n",
       "      <th>3437</th>\n",
       "      <td>3</td>\n",
       "      <td>652.05</td>\n",
       "      <td>4mg_factor</td>\n",
       "      <td>620.655</td>\n",
       "    </tr>\n",
       "    <tr>\n",
       "      <th>3438</th>\n",
       "      <td>3</td>\n",
       "      <td>635.95</td>\n",
       "      <td>4mg_factor</td>\n",
       "      <td>604.555</td>\n",
       "    </tr>\n",
       "    <tr>\n",
       "      <th>3439</th>\n",
       "      <td>3</td>\n",
       "      <td>679.42</td>\n",
       "      <td>4mg_factor</td>\n",
       "      <td>648.025</td>\n",
       "    </tr>\n",
       "  </tbody>\n",
       "</table>\n",
       "<p>3560 rows × 4 columns</p>\n",
       "</div>"
      ],
      "text/plain": [
       "                  day  distance    condition  fixed_distance\n",
       "4mg_control 0       0    144.90  4mg_control         117.530\n",
       "            1       0    180.32  4mg_control         152.950\n",
       "            2       0    111.09  4mg_control          83.720\n",
       "            3       0     78.89  4mg_control          51.520\n",
       "            4       0     67.62  4mg_control          40.250\n",
       "...               ...       ...          ...             ...\n",
       "4mg_factor  3435    3    172.27   4mg_factor         140.875\n",
       "            3436    3    218.96   4mg_factor         187.565\n",
       "            3437    3    652.05   4mg_factor         620.655\n",
       "            3438    3    635.95   4mg_factor         604.555\n",
       "            3439    3    679.42   4mg_factor         648.025\n",
       "\n",
       "[3560 rows x 4 columns]"
      ]
     },
     "execution_count": 93,
     "metadata": {},
     "output_type": "execute_result"
    }
   ],
   "source": [
    "chemotaxis_df"
   ]
  },
  {
   "cell_type": "code",
   "execution_count": 96,
   "id": "1c7f6317",
   "metadata": {},
   "outputs": [
    {
     "name": "stdout",
     "output_type": "stream",
     "text": [
      "165.82999999999998 268.06500000000005\n"
     ]
    }
   ],
   "source": [
    "chemotaxis_conditions = ['4mg_control', '4mg_factor']\n",
    "\n",
    "chemotaxis_df = read_experimental_data(chemotaxis_conditions)\n",
    "chemotaxis_df = fix_distance_baseline(chemotaxis_df)\n",
    "\n",
    "chemotaxis_df['day'] = chemotaxis_df['day'].map(convert_days)\n",
    "control_df = chemotaxis_df[chemotaxis_df['condition'] == '4mg_control'].copy()\n",
    "\n",
    "median_control = control_df[control_df['day'] == 3]['fixed_distance'].median()\n",
    "\n",
    "opposite_df = chemotaxis_df[chemotaxis_df['condition'] == '4mg_factor'].copy()\n",
    "median_opposite = opposite_df[opposite_df['day'] == 3]['fixed_distance'].median()\n",
    "\n",
    "print(median_control, median_opposite)"
   ]
  },
  {
   "cell_type": "code",
   "execution_count": 97,
   "id": "812279bc",
   "metadata": {},
   "outputs": [
    {
     "data": {
      "text/plain": [
       "61.650485436893256"
      ]
     },
     "execution_count": 97,
     "metadata": {},
     "output_type": "execute_result"
    }
   ],
   "source": [
    "opposite_increase = (median_opposite-median_control)/median_control*100\n",
    "opposite_increase"
   ]
  },
  {
   "cell_type": "code",
   "execution_count": 3,
   "id": "complete-romania",
   "metadata": {
    "scrolled": false
   },
   "outputs": [
    {
     "data": {
      "text/plain": [
       "<matplotlib.legend.Legend at 0x7f588d2e7970>"
      ]
     },
     "execution_count": 3,
     "metadata": {},
     "output_type": "execute_result"
    },
    {
     "data": {
      "image/png": "[encoded data removed]",
      "text/plain": [
       "<Figure size 432x432 with 4 Axes>"
      ]
     },
     "metadata": {
      "needs_background": "light"
     },
     "output_type": "display_data"
    }
   ],
   "source": [
    "distance_range = 650\n",
    "number_of_bins = 30\n",
    "bins = np.linspace(0, distance_range, number_of_bins)\n",
    "\n",
    "# Plot figure (each column represents a day)\n",
    "fig, axes = plt.subplots(2, 2, figsize=(6, 6), sharey=True, sharex=True)\n",
    "axes = axes.ravel()\n",
    "\n",
    "for i, ax in enumerate(axes):\n",
    "    distance_at_day = control_df[control_df['day'] == i+1]['fixed_distance']\n",
    "    weights = np.ones_like(distance_at_day) / len(distance_at_day)\n",
    "    hist_exp, *metadata = ax.hist(distance_at_day, weights=weights, bins=bins,\n",
    "                                  label='Experimental' if i==0 else None,\n",
    "                                  facecolor='black',\n",
    "                                  edgecolor='black')\n",
    "    \n",
    "    distance_at_day = cells[cells['timestep'] == i+1]['position_y']\n",
    "    weights = np.ones_like(distance_at_day) / len(distance_at_day)\n",
    "    hist_comp, *metadata = ax.hist(distance_at_day, weights=weights, bins=bins, \n",
    "                                    label='Simulation' if i==0 else None,\n",
    "                                    facecolor='lightgrey', alpha=0.7, edgecolor='black')\n",
    "    \n",
    "    similarity_matrix = [np.sqrt(comp_bin * exp_bin)\n",
    "                             for comp_bin, exp_bin\n",
    "                             in zip(hist_comp, hist_exp)]\n",
    "    \n",
    "    bc = np.sum(similarity_matrix)\n",
    "    \n",
    "    ax.set_xlim(0, None)\n",
    "    ax.set_title(f'Time: {(i+1)*24} hours; BC: {round(bc, 2)}')\n",
    "    if i > 1:\n",
    "        ax.set_xlabel('Traveled distance [$\\mu$m]', labelpad=10, fontsize=13)\n",
    "    if (i == 0) | (i == 2):\n",
    "        ax.set_ylabel('Density', labelpad=10, fontsize=13)\n",
    "    \n",
    "    ax.set_axisbelow(True)\n",
    "    ax.grid(axis='y', c='lightgrey', linestyle='dashed')\n",
    "    \n",
    "sns.despine()\n",
    "\n",
    "plt.suptitle('Overlap between the experimental and simulated\\ndistance histograms under control conditions', \n",
    "             fontweight='bold',\n",
    "             fontsize=13)\n",
    "\n",
    "fig.tight_layout()\n",
    "\n",
    "fig.legend(title='Type of data', loc=(0.75, 0.69))\n",
    "#plt.savefig('/home/ines/writing/pdgf_paper/img/chemo96_bc.png')\n",
    "#plt.savefig('/home/ines/writing/pdgf_paper/img/chemo96_bc.svg', format=\"svg\")"
   ]
  },
  {
   "cell_type": "code",
   "execution_count": 6,
   "id": "601ed08f",
   "metadata": {},
   "outputs": [
    {
     "data": {
      "text/html": [
       "<div>\n",
       "<style scoped>\n",
       "    .dataframe tbody tr th:only-of-type {\n",
       "        vertical-align: middle;\n",
       "    }\n",
       "\n",
       "    .dataframe tbody tr th {\n",
       "        vertical-align: top;\n",
       "    }\n",
       "\n",
       "    .dataframe thead th {\n",
       "        text-align: right;\n",
       "    }\n",
       "</style>\n",
       "<table border=\"1\" class=\"dataframe\">\n",
       "  <thead>\n",
       "    <tr style=\"text-align: right;\">\n",
       "      <th></th>\n",
       "      <th>position_y</th>\n",
       "      <th>timestep</th>\n",
       "      <th>replicate</th>\n",
       "    </tr>\n",
       "  </thead>\n",
       "  <tbody>\n",
       "    <tr>\n",
       "      <th>0</th>\n",
       "      <td>8.412711</td>\n",
       "      <td>0</td>\n",
       "      <td>final_output/output3</td>\n",
       "    </tr>\n",
       "    <tr>\n",
       "      <th>1</th>\n",
       "      <td>8.412711</td>\n",
       "      <td>0</td>\n",
       "      <td>final_output/output3</td>\n",
       "    </tr>\n",
       "    <tr>\n",
       "      <th>2</th>\n",
       "      <td>8.412711</td>\n",
       "      <td>0</td>\n",
       "      <td>final_output/output3</td>\n",
       "    </tr>\n",
       "    <tr>\n",
       "      <th>3</th>\n",
       "      <td>8.412711</td>\n",
       "      <td>0</td>\n",
       "      <td>final_output/output3</td>\n",
       "    </tr>\n",
       "    <tr>\n",
       "      <th>4</th>\n",
       "      <td>8.412711</td>\n",
       "      <td>0</td>\n",
       "      <td>final_output/output3</td>\n",
       "    </tr>\n",
       "    <tr>\n",
       "      <th>...</th>\n",
       "      <td>...</td>\n",
       "      <td>...</td>\n",
       "      <td>...</td>\n",
       "    </tr>\n",
       "    <tr>\n",
       "      <th>16473</th>\n",
       "      <td>469.705508</td>\n",
       "      <td>9</td>\n",
       "      <td>final_output/output2</td>\n",
       "    </tr>\n",
       "    <tr>\n",
       "      <th>16474</th>\n",
       "      <td>153.226402</td>\n",
       "      <td>9</td>\n",
       "      <td>final_output/output2</td>\n",
       "    </tr>\n",
       "    <tr>\n",
       "      <th>16475</th>\n",
       "      <td>483.315804</td>\n",
       "      <td>9</td>\n",
       "      <td>final_output/output2</td>\n",
       "    </tr>\n",
       "    <tr>\n",
       "      <th>16476</th>\n",
       "      <td>388.715267</td>\n",
       "      <td>9</td>\n",
       "      <td>final_output/output2</td>\n",
       "    </tr>\n",
       "    <tr>\n",
       "      <th>16477</th>\n",
       "      <td>327.652696</td>\n",
       "      <td>9</td>\n",
       "      <td>final_output/output2</td>\n",
       "    </tr>\n",
       "  </tbody>\n",
       "</table>\n",
       "<p>49569 rows × 3 columns</p>\n",
       "</div>"
      ],
      "text/plain": [
       "       position_y  timestep             replicate\n",
       "0        8.412711         0  final_output/output3\n",
       "1        8.412711         0  final_output/output3\n",
       "2        8.412711         0  final_output/output3\n",
       "3        8.412711         0  final_output/output3\n",
       "4        8.412711         0  final_output/output3\n",
       "...           ...       ...                   ...\n",
       "16473  469.705508         9  final_output/output2\n",
       "16474  153.226402         9  final_output/output2\n",
       "16475  483.315804         9  final_output/output2\n",
       "16476  388.715267         9  final_output/output2\n",
       "16477  327.652696         9  final_output/output2\n",
       "\n",
       "[49569 rows x 3 columns]"
      ]
     },
     "execution_count": 6,
     "metadata": {},
     "output_type": "execute_result"
    }
   ],
   "source": [
    "simulation_cells = []\n",
    "\n",
    "for i in range(3):\n",
    "    cells = pd.read_csv(f'../saved_dfs/chemo216/control_{i}.csv')\n",
    "    simulation_cells.append(cells)\n",
    "    \n",
    "final_cells = pd.concat(simulation_cells)\n",
    "final_cells"
   ]
  },
  {
   "cell_type": "code",
   "execution_count": 51,
   "id": "moral-warrant",
   "metadata": {},
   "outputs": [
    {
     "data": {
      "text/plain": [
       "<matplotlib.legend.Legend at 0x7f87f71b2ac0>"
      ]
     },
     "execution_count": 51,
     "metadata": {},
     "output_type": "execute_result"
    },
    {
     "data": {
      "image/png": "[encoded data removed]",
      "text/plain": [
       "<Figure size 432x432 with 4 Axes>"
      ]
     },
     "metadata": {
      "needs_background": "light"
     },
     "output_type": "display_data"
    }
   ],
   "source": [
    "control_df = chemotaxis_df[chemotaxis_df['condition'] == 'cell_channel'].copy()\n",
    "\n",
    "cells = pd.read_csv('../saved_dfs/chemo216_opposite_df.csv')\n",
    "\n",
    "distance_range = 650\n",
    "number_of_bins = 30\n",
    "bins = np.linspace(0, distance_range, number_of_bins)\n",
    "\n",
    "# Plot figure (each column represents a day)\n",
    "fig, axes = plt.subplots(2, 2, figsize=(6, 6), sharey=True, sharex=True)\n",
    "axes = axes.ravel()\n",
    "\n",
    "for i, ax in enumerate(axes):\n",
    "    distance_at_day = control_df[control_df['day'] == i+1]['fixed_distance']\n",
    "    weights = np.ones_like(distance_at_day) / len(distance_at_day)\n",
    "    hist_exp, *metadata = ax.hist(distance_at_day, weights=weights, bins=bins,\n",
    "                                  label='Experimental' if i==0 else None,\n",
    "                                  facecolor='black',\n",
    "                                  edgecolor='black')\n",
    "    \n",
    "    distance_at_day = cells[cells['timestep'] == i+1]['position_y']\n",
    "    weights = np.ones_like(distance_at_day) / len(distance_at_day)\n",
    "    hist_comp, *metadata = ax.hist(distance_at_day, weights=weights, bins=bins, \n",
    "                                    label='Simulation' if i==0 else None,\n",
    "                                    facecolor='lightgrey', alpha=0.7, edgecolor='black')\n",
    "    \n",
    "    similarity_matrix = [np.sqrt(comp_bin * exp_bin)\n",
    "                             for comp_bin, exp_bin\n",
    "                             in zip(hist_comp, hist_exp)]\n",
    "    \n",
    "    bc = np.sum(similarity_matrix)\n",
    "    \n",
    "    ax.set_xlim(0, None)\n",
    "    ax.set_title(f'Time: {(i+1)*24} hours; BC: {round(bc, 2)}')\n",
    "    if i > 1:\n",
    "        ax.set_xlabel('Traveled distance [$\\mu$m]', labelpad=10, fontsize=13)\n",
    "    if (i == 0) | (i == 2):\n",
    "        ax.set_ylabel('Density', labelpad=10, fontsize=13)\n",
    "    \n",
    "    ax.set_axisbelow(True)\n",
    "    ax.grid(axis='y', c='lightgrey', linestyle='dashed')\n",
    "    \n",
    "sns.despine()\n",
    "\n",
    "plt.suptitle('Overlap between the experimental and simulated\\ndistance histograms under control conditions', \n",
    "             fontweight='bold',\n",
    "             fontsize=13)\n",
    "\n",
    "fig.tight_layout()\n",
    "\n",
    "fig.legend(title='Type of data', loc=(0.75, 0.69))"
   ]
  },
  {
   "cell_type": "code",
   "execution_count": 44,
   "id": "convenient-making",
   "metadata": {},
   "outputs": [
    {
     "data": {
      "text/html": [
       "<div>\n",
       "<style scoped>\n",
       "    .dataframe tbody tr th:only-of-type {\n",
       "        vertical-align: middle;\n",
       "    }\n",
       "\n",
       "    .dataframe tbody tr th {\n",
       "        vertical-align: top;\n",
       "    }\n",
       "\n",
       "    .dataframe thead th {\n",
       "        text-align: right;\n",
       "    }\n",
       "</style>\n",
       "<table border=\"1\" class=\"dataframe\">\n",
       "  <thead>\n",
       "    <tr style=\"text-align: right;\">\n",
       "      <th></th>\n",
       "      <th>distance</th>\n",
       "      <th>condition</th>\n",
       "      <th>fixed_distance</th>\n",
       "    </tr>\n",
       "    <tr>\n",
       "      <th>day</th>\n",
       "      <th></th>\n",
       "      <th></th>\n",
       "      <th></th>\n",
       "    </tr>\n",
       "  </thead>\n",
       "  <tbody>\n",
       "    <tr>\n",
       "      <th>0</th>\n",
       "      <td>127</td>\n",
       "      <td>127</td>\n",
       "      <td>127</td>\n",
       "    </tr>\n",
       "    <tr>\n",
       "      <th>1</th>\n",
       "      <td>260</td>\n",
       "      <td>260</td>\n",
       "      <td>260</td>\n",
       "    </tr>\n",
       "    <tr>\n",
       "      <th>2</th>\n",
       "      <td>437</td>\n",
       "      <td>437</td>\n",
       "      <td>437</td>\n",
       "    </tr>\n",
       "    <tr>\n",
       "      <th>3</th>\n",
       "      <td>569</td>\n",
       "      <td>569</td>\n",
       "      <td>569</td>\n",
       "    </tr>\n",
       "    <tr>\n",
       "      <th>4</th>\n",
       "      <td>571</td>\n",
       "      <td>571</td>\n",
       "      <td>571</td>\n",
       "    </tr>\n",
       "    <tr>\n",
       "      <th>7</th>\n",
       "      <td>749</td>\n",
       "      <td>749</td>\n",
       "      <td>749</td>\n",
       "    </tr>\n",
       "    <tr>\n",
       "      <th>8</th>\n",
       "      <td>793</td>\n",
       "      <td>793</td>\n",
       "      <td>793</td>\n",
       "    </tr>\n",
       "    <tr>\n",
       "      <th>9</th>\n",
       "      <td>749</td>\n",
       "      <td>749</td>\n",
       "      <td>749</td>\n",
       "    </tr>\n",
       "  </tbody>\n",
       "</table>\n",
       "</div>"
      ],
      "text/plain": [
       "     distance  condition  fixed_distance\n",
       "day                                     \n",
       "0         127        127             127\n",
       "1         260        260             260\n",
       "2         437        437             437\n",
       "3         569        569             569\n",
       "4         571        571             571\n",
       "7         749        749             749\n",
       "8         793        793             793\n",
       "9         749        749             749"
      ]
     },
     "execution_count": 44,
     "metadata": {},
     "output_type": "execute_result"
    }
   ],
   "source": [
    "control_df.groupby('day').count()"
   ]
  },
  {
   "cell_type": "markdown",
   "id": "offensive-democracy",
   "metadata": {},
   "source": [
    "# 216 hours"
   ]
  },
  {
   "cell_type": "code",
   "execution_count": 52,
   "id": "exceptional-exhibit",
   "metadata": {},
   "outputs": [],
   "source": [
    "chemotaxis_conditions = ['control_216h', 'factor_216h']\n",
    "\n",
    "chemotaxis_df = read_experimental_data(chemotaxis_conditions)\n",
    "chemotaxis_df = fix_distance_baseline(chemotaxis_df)\n",
    "\n",
    "# Fix the times at which the information was stored\n",
    "convert_days = {old: new \n",
    "                for old, new in zip(range(1, 9), [0, 1, 2, 3, 4, 7, 8, 9])}  \n",
    "\n",
    "chemotaxis_df['day'] = chemotaxis_df['day'].map(convert_days)\n",
    "control_df = chemotaxis_df[chemotaxis_df['condition'] == 'control_216h'].copy()"
   ]
  },
  {
   "cell_type": "code",
   "execution_count": 19,
   "id": "extra-vegetation",
   "metadata": {},
   "outputs": [],
   "source": [
    "cells = pd.read_csv('../saved_dfs/chemo216/control_test_0.csv')"
   ]
  },
  {
   "cell_type": "code",
   "execution_count": 20,
   "id": "incorporated-tenant",
   "metadata": {},
   "outputs": [
    {
     "data": {
      "image/png": "[encoded data removed]",
      "text/plain": [
       "<Figure size 1152x360 with 8 Axes>"
      ]
     },
     "metadata": {
      "needs_background": "light"
     },
     "output_type": "display_data"
    }
   ],
   "source": [
    "distance_range = 1450\n",
    "number_of_bins = 60\n",
    "bins = np.linspace(0, distance_range, number_of_bins)\n",
    "\n",
    "# Plot figure (each column represents a day)\n",
    "fig, axes = plt.subplots(2, 4, figsize=(16, 5), sharey=True, sharex=True)\n",
    "axes = axes.ravel()\n",
    "days = [1, 2, 3, 4, 7, 8, 9]\n",
    "\n",
    "for i, ax in enumerate(axes):\n",
    "    if i < 7:\n",
    "        distance_at_day = control_df[control_df['day'] == days[i]]['fixed_distance']\n",
    "        weights = np.ones_like(distance_at_day) / len(distance_at_day)\n",
    "        hist_exp, *metadata = ax.hist(distance_at_day, weights=weights, bins=bins,\n",
    "                                      label='Experimental' if i==0 else None,\n",
    "                                      facecolor='black',\n",
    "                                      edgecolor='black')\n",
    "\n",
    "        distance_at_day = cells[cells['timestep'] == days[i]]['position_y']\n",
    "        weights = np.ones_like(distance_at_day) / len(distance_at_day)\n",
    "        hist_comp, *metadata = ax.hist(distance_at_day, weights=weights, bins=bins, \n",
    "                                        label='Simulation' if i==0 else None,\n",
    "                                        facecolor='lightgrey', alpha=0.7, edgecolor='black')\n",
    "\n",
    "        similarity_matrix = [np.sqrt(comp_bin * exp_bin)\n",
    "                                 for comp_bin, exp_bin\n",
    "                                 in zip(hist_comp, hist_exp)]\n",
    "\n",
    "        bc = np.sum(similarity_matrix)\n",
    "\n",
    "        ax.set_xlim(0, None)\n",
    "        ax.set_title(f'Time: {(i+1)*24} hours; BC: {round(bc, 2)}')\n",
    "        if i > 3:\n",
    "            ax.set_xlabel('Traveled distance [$\\mu$m]', labelpad=10, fontsize=13)\n",
    "        if (i == 0) | (i == 4):\n",
    "            ax.set_ylabel('Density', labelpad=10, fontsize=13)\n",
    "\n",
    "        ax.set_axisbelow(True)\n",
    "        ax.grid(axis='y', c='lightgrey', linestyle='dashed')\n",
    "    \n",
    "sns.despine()"
   ]
  },
  {
   "cell_type": "code",
   "execution_count": 21,
   "id": "liked-depression",
   "metadata": {},
   "outputs": [],
   "source": [
    "control_df = chemotaxis_df[chemotaxis_df['condition'] == 'control_216h'].copy()\n"
   ]
  },
  {
   "cell_type": "code",
   "execution_count": 22,
   "id": "dedicated-attitude",
   "metadata": {},
   "outputs": [
    {
     "name": "stdout",
     "output_type": "stream",
     "text": [
      "0.9272840405248961\n"
     ]
    },
    {
     "data": {
      "image/png": "[encoded data removed]",
      "text/plain": [
       "<Figure size 1152x360 with 8 Axes>"
      ]
     },
     "metadata": {
      "needs_background": "light"
     },
     "output_type": "display_data"
    },
    {
     "data": {
      "image/png": "[encoded data removed]",
      "text/plain": [
       "<Figure size 1152x360 with 8 Axes>"
      ]
     },
     "metadata": {
      "needs_background": "light"
     },
     "output_type": "display_data"
    },
    {
     "data": {
      "image/png": "[encoded data removed]",
      "text/plain": [
       "<Figure size 1152x360 with 8 Axes>"
      ]
     },
     "metadata": {
      "needs_background": "light"
     },
     "output_type": "display_data"
    }
   ],
   "source": [
    "distance_range = 1450\n",
    "number_of_bins = 60\n",
    "bins = np.linspace(0, distance_range, number_of_bins)\n",
    "\n",
    "similarity = []\n",
    "for i in range(3):\n",
    "    cells = pd.read_csv(f'../saved_dfs/chemo216/control_test_{i}.csv')\n",
    "\n",
    "    # Plot figure (each column represents a day)\n",
    "    fig, axes = plt.subplots(2, 4, figsize=(16, 5), sharey=True, sharex=True)\n",
    "    axes = axes.ravel()\n",
    "    days = [1, 2, 3, 4, 7, 8, 9]\n",
    "    all_bc = []\n",
    "\n",
    "    for i, ax in enumerate(axes):\n",
    "        if i < 7:\n",
    "            distance_at_day = control_df[control_df['day'] == days[i]]['fixed_distance']\n",
    "            weights = np.ones_like(distance_at_day) / len(distance_at_day)\n",
    "            hist_exp, *metadata = ax.hist(distance_at_day, weights=weights, bins=bins,\n",
    "                                          label='Experimental' if i==0 else None,\n",
    "                                          facecolor='black',\n",
    "                                          edgecolor='black')\n",
    "\n",
    "            distance_at_day = cells[cells['timestep'] == days[i]]['position_y']\n",
    "            weights = np.ones_like(distance_at_day) / len(distance_at_day)\n",
    "            hist_comp, *metadata = ax.hist(distance_at_day, weights=weights, bins=bins, \n",
    "                                            label='Simulation' if i==0 else None,\n",
    "                                            facecolor='lightgrey', alpha=0.7, edgecolor='black')\n",
    "\n",
    "            similarity_matrix = [np.sqrt(comp_bin * exp_bin)\n",
    "                                     for comp_bin, exp_bin\n",
    "                                     in zip(hist_comp, hist_exp)]\n",
    "\n",
    "            bc = np.sum(similarity_matrix)\n",
    "\n",
    "            ax.set_xlim(0, None)\n",
    "            ax.set_title(f'Time: {(i+1)*24} hours; BC: {round(bc, 2)}')\n",
    "            if i > 3:\n",
    "                ax.set_xlabel('Traveled distance [$\\mu$m]', labelpad=10, fontsize=13)\n",
    "            if (i == 0) | (i == 4):\n",
    "                ax.set_ylabel('Density', labelpad=10, fontsize=13)\n",
    "\n",
    "            ax.set_axisbelow(True)\n",
    "            ax.grid(axis='y', c='lightgrey', linestyle='dashed')\n",
    "            all_bc.append(bc)\n",
    "    similarity.append(np.mean(all_bc))\n",
    "\n",
    "    sns.despine()\n",
    "    \n",
    "print(np.mean(similarity))"
   ]
  },
  {
   "cell_type": "code",
   "execution_count": 23,
   "id": "da608903",
   "metadata": {},
   "outputs": [
    {
     "name": "stdout",
     "output_type": "stream",
     "text": [
      "0.9589849696493479\n"
     ]
    },
    {
     "data": {
      "image/png": "[encoded data removed]",
      "text/plain": [
       "<Figure size 1152x360 with 8 Axes>"
      ]
     },
     "metadata": {
      "needs_background": "light"
     },
     "output_type": "display_data"
    },
    {
     "data": {
      "image/png": "[encoded data removed]",
      "text/plain": [
       "<Figure size 1152x360 with 8 Axes>"
      ]
     },
     "metadata": {
      "needs_background": "light"
     },
     "output_type": "display_data"
    },
    {
     "data": {
      "image/png": "[encoded data removed]",
      "text/plain": [
       "<Figure size 1152x360 with 8 Axes>"
      ]
     },
     "metadata": {
      "needs_background": "light"
     },
     "output_type": "display_data"
    }
   ],
   "source": [
    "control_df = chemotaxis_df[chemotaxis_df['condition'] == 'factor_216h'].copy()\n",
    "\n",
    "distance_range = 1450\n",
    "number_of_bins = 60\n",
    "bins = np.linspace(0, distance_range, number_of_bins)\n",
    "\n",
    "similarity = []\n",
    "for i in range(3):\n",
    "    cells = pd.read_csv(f'../saved_dfs/chemo216/opposite_{i}.csv')\n",
    "\n",
    "    # Plot figure (each column represents a day)\n",
    "    fig, axes = plt.subplots(2, 4, figsize=(16, 5), sharey=True, sharex=True)\n",
    "    axes = axes.ravel()\n",
    "    days = [1, 2, 3, 4, 7, 8, 9]\n",
    "    all_bc = []\n",
    "\n",
    "    for i, ax in enumerate(axes):\n",
    "        if i < 7:\n",
    "            distance_at_day = control_df[control_df['day'] == days[i]]['fixed_distance']\n",
    "            weights = np.ones_like(distance_at_day) / len(distance_at_day)\n",
    "            hist_exp, *metadata = ax.hist(distance_at_day, weights=weights, bins=bins,\n",
    "                                          label='Experimental' if i==0 else None,\n",
    "                                          facecolor='black',\n",
    "                                          edgecolor='black')\n",
    "\n",
    "            distance_at_day = cells[cells['timestep'] == days[i]]['position_y']\n",
    "            weights = np.ones_like(distance_at_day) / len(distance_at_day)\n",
    "            hist_comp, *metadata = ax.hist(distance_at_day, weights=weights, bins=bins, \n",
    "                                            label='Simulation' if i==0 else None,\n",
    "                                            facecolor='lightgrey', alpha=0.7, edgecolor='black')\n",
    "\n",
    "            similarity_matrix = [np.sqrt(comp_bin * exp_bin)\n",
    "                                     for comp_bin, exp_bin\n",
    "                                     in zip(hist_comp, hist_exp)]\n",
    "\n",
    "            bc = np.sum(similarity_matrix)\n",
    "\n",
    "            ax.set_xlim(0, None)\n",
    "            ax.set_title(f'Time: {(i+1)*24} hours; BC: {round(bc, 2)}')\n",
    "            if i > 3:\n",
    "                ax.set_xlabel('Traveled distance [$\\mu$m]', labelpad=10, fontsize=13)\n",
    "            if (i == 0) | (i == 4):\n",
    "                ax.set_ylabel('Density', labelpad=10, fontsize=13)\n",
    "\n",
    "            ax.set_axisbelow(True)\n",
    "            ax.grid(axis='y', c='lightgrey', linestyle='dashed')\n",
    "            all_bc.append(bc)\n",
    "    similarity.append(np.mean(all_bc))\n",
    "\n",
    "    sns.despine()\n",
    "    \n",
    "print(np.mean(similarity))"
   ]
  },
  {
   "cell_type": "code",
   "execution_count": 14,
   "id": "sitting-candle",
   "metadata": {},
   "outputs": [
    {
     "data": {
      "text/html": [
       "<div>\n",
       "<style scoped>\n",
       "    .dataframe tbody tr th:only-of-type {\n",
       "        vertical-align: middle;\n",
       "    }\n",
       "\n",
       "    .dataframe tbody tr th {\n",
       "        vertical-align: top;\n",
       "    }\n",
       "\n",
       "    .dataframe thead th {\n",
       "        text-align: right;\n",
       "    }\n",
       "</style>\n",
       "<table border=\"1\" class=\"dataframe\">\n",
       "  <thead>\n",
       "    <tr style=\"text-align: right;\">\n",
       "      <th></th>\n",
       "      <th></th>\n",
       "      <th>day</th>\n",
       "      <th>distance</th>\n",
       "      <th>condition</th>\n",
       "      <th>fixed_distance</th>\n",
       "    </tr>\n",
       "  </thead>\n",
       "  <tbody>\n",
       "    <tr>\n",
       "      <th rowspan=\"5\" valign=\"top\">control_216h</th>\n",
       "      <th>0</th>\n",
       "      <td>0</td>\n",
       "      <td>78.89</td>\n",
       "      <td>control_216h</td>\n",
       "      <td>26.9675</td>\n",
       "    </tr>\n",
       "    <tr>\n",
       "      <th>1</th>\n",
       "      <td>0</td>\n",
       "      <td>77.28</td>\n",
       "      <td>control_216h</td>\n",
       "      <td>25.3575</td>\n",
       "    </tr>\n",
       "    <tr>\n",
       "      <th>2</th>\n",
       "      <td>0</td>\n",
       "      <td>72.45</td>\n",
       "      <td>control_216h</td>\n",
       "      <td>20.5275</td>\n",
       "    </tr>\n",
       "    <tr>\n",
       "      <th>3</th>\n",
       "      <td>0</td>\n",
       "      <td>74.06</td>\n",
       "      <td>control_216h</td>\n",
       "      <td>22.1375</td>\n",
       "    </tr>\n",
       "    <tr>\n",
       "      <th>4</th>\n",
       "      <td>0</td>\n",
       "      <td>75.67</td>\n",
       "      <td>control_216h</td>\n",
       "      <td>23.7475</td>\n",
       "    </tr>\n",
       "    <tr>\n",
       "      <th>...</th>\n",
       "      <th>...</th>\n",
       "      <td>...</td>\n",
       "      <td>...</td>\n",
       "      <td>...</td>\n",
       "      <td>...</td>\n",
       "    </tr>\n",
       "    <tr>\n",
       "      <th rowspan=\"5\" valign=\"top\">factor_216h</th>\n",
       "      <th>6607</th>\n",
       "      <td>9</td>\n",
       "      <td>750.26</td>\n",
       "      <td>factor_216h</td>\n",
       "      <td>708.4000</td>\n",
       "    </tr>\n",
       "    <tr>\n",
       "      <th>6608</th>\n",
       "      <td>9</td>\n",
       "      <td>375.13</td>\n",
       "      <td>factor_216h</td>\n",
       "      <td>333.2700</td>\n",
       "    </tr>\n",
       "    <tr>\n",
       "      <th>6609</th>\n",
       "      <td>9</td>\n",
       "      <td>354.20</td>\n",
       "      <td>factor_216h</td>\n",
       "      <td>312.3400</td>\n",
       "    </tr>\n",
       "    <tr>\n",
       "      <th>6610</th>\n",
       "      <td>9</td>\n",
       "      <td>281.75</td>\n",
       "      <td>factor_216h</td>\n",
       "      <td>239.8900</td>\n",
       "    </tr>\n",
       "    <tr>\n",
       "      <th>6611</th>\n",
       "      <td>9</td>\n",
       "      <td>268.87</td>\n",
       "      <td>factor_216h</td>\n",
       "      <td>227.0100</td>\n",
       "    </tr>\n",
       "  </tbody>\n",
       "</table>\n",
       "<p>5760 rows × 4 columns</p>\n",
       "</div>"
      ],
      "text/plain": [
       "                   day  distance     condition  fixed_distance\n",
       "control_216h 0       0     78.89  control_216h         26.9675\n",
       "             1       0     77.28  control_216h         25.3575\n",
       "             2       0     72.45  control_216h         20.5275\n",
       "             3       0     74.06  control_216h         22.1375\n",
       "             4       0     75.67  control_216h         23.7475\n",
       "...                ...       ...           ...             ...\n",
       "factor_216h  6607    9    750.26   factor_216h        708.4000\n",
       "             6608    9    375.13   factor_216h        333.2700\n",
       "             6609    9    354.20   factor_216h        312.3400\n",
       "             6610    9    281.75   factor_216h        239.8900\n",
       "             6611    9    268.87   factor_216h        227.0100\n",
       "\n",
       "[5760 rows x 4 columns]"
      ]
     },
     "execution_count": 14,
     "metadata": {},
     "output_type": "execute_result"
    }
   ],
   "source": [
    "chemotaxis_df"
   ]
  },
  {
   "cell_type": "code",
   "execution_count": 24,
   "id": "scheduled-transaction",
   "metadata": {},
   "outputs": [],
   "source": [
    "chemotaxis_conditions = ['4mg_control', '4mg_factor']\n",
    "\n",
    "chemotaxis_df = read_experimental_data(chemotaxis_conditions)\n",
    "chemotaxis_df = fix_distance_baseline(chemotaxis_df)\n",
    "\n",
    "control_df = chemotaxis_df[chemotaxis_df['condition'] == '4mg_control'].copy()"
   ]
  },
  {
   "cell_type": "code",
   "execution_count": 25,
   "id": "legitimate-hormone",
   "metadata": {},
   "outputs": [
    {
     "name": "stdout",
     "output_type": "stream",
     "text": [
      "0.9616338911902491\n",
      "0.004056900252381242\n"
     ]
    },
    {
     "data": {
      "image/png": "[encoded data removed]",
      "text/plain": [
       "<Figure size 1152x360 with 4 Axes>"
      ]
     },
     "metadata": {
      "needs_background": "light"
     },
     "output_type": "display_data"
    },
    {
     "data": {
      "image/png": "[encoded data removed]",
      "text/plain": [
       "<Figure size 1152x360 with 4 Axes>"
      ]
     },
     "metadata": {
      "needs_background": "light"
     },
     "output_type": "display_data"
    },
    {
     "data": {
      "image/png": "[encoded data removed]",
      "text/plain": [
       "<Figure size 1152x360 with 4 Axes>"
      ]
     },
     "metadata": {
      "needs_background": "light"
     },
     "output_type": "display_data"
    }
   ],
   "source": [
    "distance_range = 650\n",
    "number_of_bins = 30\n",
    "bins = np.linspace(0, distance_range, number_of_bins)\n",
    "\n",
    "similarity = []\n",
    "for i in range(3):\n",
    "    cells = pd.read_csv(f'../saved_dfs/4mg/control_{i}.csv')\n",
    "\n",
    "    # Plot figure (each column represents a day)\n",
    "    fig, axes = plt.subplots(1, 4, figsize=(16, 5), sharey=True, sharex=True)\n",
    "    all_bc = []\n",
    "\n",
    "    for i, ax in enumerate(axes):\n",
    "        if i < 7:\n",
    "            distance_at_day = control_df[control_df['day'] == i+1]['fixed_distance']\n",
    "            weights = np.ones_like(distance_at_day) / len(distance_at_day)\n",
    "            hist_exp, *metadata = ax.hist(distance_at_day, weights=weights, bins=bins,\n",
    "                                          label='Experimental' if i==0 else None,\n",
    "                                          facecolor='black',\n",
    "                                          edgecolor='black')\n",
    "\n",
    "            distance_at_day = cells[cells['timestep'] == i+1]['position_y']\n",
    "            weights = np.ones_like(distance_at_day) / len(distance_at_day)\n",
    "            hist_comp, *metadata = ax.hist(distance_at_day, weights=weights, bins=bins, \n",
    "                                            label='Simulation' if i==0 else None,\n",
    "                                            facecolor='lightgrey', alpha=0.7, edgecolor='black')\n",
    "\n",
    "            similarity_matrix = [np.sqrt(comp_bin * exp_bin)\n",
    "                                     for comp_bin, exp_bin\n",
    "                                     in zip(hist_comp, hist_exp)]\n",
    "\n",
    "            bc = np.sum(similarity_matrix)\n",
    "\n",
    "            ax.set_xlim(0, None)\n",
    "            ax.set_title(f'Time: {(i+1)*24} hours; BC: {round(bc, 2)}')\n",
    "            if i > 3:\n",
    "                ax.set_xlabel('Traveled distance [$\\mu$m]', labelpad=10, fontsize=13)\n",
    "            if (i == 0) | (i == 4):\n",
    "                ax.set_ylabel('Density', labelpad=10, fontsize=13)\n",
    "\n",
    "            ax.set_axisbelow(True)\n",
    "            ax.grid(axis='y', c='lightgrey', linestyle='dashed')\n",
    "            all_bc.append(bc)\n",
    "    similarity.append(np.mean(all_bc))\n",
    "\n",
    "    sns.despine()\n",
    "    \n",
    "print(np.mean(similarity))\n",
    "print(np.std(similarity))"
   ]
  },
  {
   "cell_type": "code",
   "execution_count": 26,
   "id": "adopted-samoa",
   "metadata": {},
   "outputs": [],
   "source": [
    "control_df = chemotaxis_df[chemotaxis_df['condition'] == '4mg_factor'].copy()"
   ]
  },
  {
   "cell_type": "code",
   "execution_count": 27,
   "id": "empty-leave",
   "metadata": {
    "scrolled": false
   },
   "outputs": [
    {
     "name": "stdout",
     "output_type": "stream",
     "text": [
      "0.9710357413873286\n",
      "0.001941466854064833\n"
     ]
    },
    {
     "data": {
      "image/png": "[encoded data removed]",
      "text/plain": [
       "<Figure size 1152x360 with 4 Axes>"
      ]
     },
     "metadata": {
      "needs_background": "light"
     },
     "output_type": "display_data"
    },
    {
     "data": {
      "image/png": "[encoded data removed]",
      "text/plain": [
       "<Figure size 1152x360 with 4 Axes>"
      ]
     },
     "metadata": {
      "needs_background": "light"
     },
     "output_type": "display_data"
    },
    {
     "data": {
      "image/png": "[encoded data removed]",
      "text/plain": [
       "<Figure size 1152x360 with 4 Axes>"
      ]
     },
     "metadata": {
      "needs_background": "light"
     },
     "output_type": "display_data"
    }
   ],
   "source": [
    "similarity = []\n",
    "for i in range(3):\n",
    "    cells = pd.read_csv(f'../saved_dfs/4mg/opposite_{i}.csv')\n",
    "\n",
    "    # Plot figure (each column represents a day)\n",
    "    fig, axes = plt.subplots(1, 4, figsize=(16, 5), sharey=True, sharex=True)\n",
    "    all_bc = []\n",
    "\n",
    "    for i, ax in enumerate(axes):\n",
    "        if i < 7:\n",
    "            distance_at_day = control_df[control_df['day'] == i+1]['fixed_distance']\n",
    "            weights = np.ones_like(distance_at_day) / len(distance_at_day)\n",
    "            hist_exp, *metadata = ax.hist(distance_at_day, weights=weights, bins=bins,\n",
    "                                          label='Experimental' if i==0 else None,\n",
    "                                          facecolor='black',\n",
    "                                          edgecolor='black')\n",
    "\n",
    "            distance_at_day = cells[cells['timestep'] == i+1]['position_y']\n",
    "            weights = np.ones_like(distance_at_day) / len(distance_at_day)\n",
    "            hist_comp, *metadata = ax.hist(distance_at_day, weights=weights, bins=bins, \n",
    "                                            label='Simulation' if i==0 else None,\n",
    "                                            facecolor='lightgrey', alpha=0.7, edgecolor='black')\n",
    "\n",
    "            similarity_matrix = [np.sqrt(comp_bin * exp_bin)\n",
    "                                     for comp_bin, exp_bin\n",
    "                                     in zip(hist_comp, hist_exp)]\n",
    "\n",
    "            bc = np.sum(similarity_matrix)\n",
    "\n",
    "            ax.set_xlim(0, None)\n",
    "            ax.set_title(f'Time: {(i+1)*24} hours; BC: {round(bc, 2)}')\n",
    "            if i > 3:\n",
    "                ax.set_xlabel('Traveled distance [$\\mu$m]', labelpad=10, fontsize=13)\n",
    "            if (i == 0) | (i == 4):\n",
    "                ax.set_ylabel('Density', labelpad=10, fontsize=13)\n",
    "\n",
    "            ax.set_axisbelow(True)\n",
    "            ax.grid(axis='y', c='lightgrey', linestyle='dashed')\n",
    "            all_bc.append(bc)\n",
    "    similarity.append(np.mean(all_bc))\n",
    "\n",
    "    sns.despine()\n",
    "    \n",
    "print(np.mean(similarity))\n",
    "print(np.std(similarity))"
   ]
  },
  {
   "cell_type": "code",
   "execution_count": null,
   "id": "auburn-solomon",
   "metadata": {},
   "outputs": [],
   "source": []
  },
  {
   "cell_type": "code",
   "execution_count": 45,
   "id": "affiliated-transfer",
   "metadata": {},
   "outputs": [],
   "source": [
    "import plotly.graph_objects as go"
   ]
  },
  {
   "cell_type": "code",
   "execution_count": 59,
   "id": "suburban-applicant",
   "metadata": {},
   "outputs": [
    {
     "data": {
      "application/vnd.plotly.v1+json": {
       "config": {
        "plotlyServerURL": "https://plot.ly"
       },
       "data": [
        {
         "fill": "toself",
         "name": "Product A",
         "r": [
          0.47,
          0.344,
          0.36,
          0.76,
          0.56
         ],
         "theta": [
          "sigma",
          "t_persist",
          "r_lateral",
          "r_vertical",
          "b_fwd"
         ],
         "type": "scatterpolar"
        },
        {
         "fill": "toself",
         "name": "Product B",
         "r": [
          0.93,
          0.996,
          0.36,
          0.89,
          0.56
         ],
         "theta": [
          "sigma",
          "t_persist",
          "r_lateral",
          "r_vertical",
          "b_fwd"
         ],
         "type": "scatterpolar"
        }
       ],
       "layout": {
        "polar": {
         "radialaxis": {
          "visible": true
         }
        },
        "showlegend": false,
        "template": {
         "data": {
          "bar": [
           {
            "error_x": {
             "color": "#2a3f5f"
            },
            "error_y": {
             "color": "#2a3f5f"
            },
            "marker": {
             "line": {
              "color": "#E5ECF6",
              "width": 0.5
             },
             "pattern": {
              "fillmode": "overlay",
              "size": 10,
              "solidity": 0.2
             }
            },
            "type": "bar"
           }
          ],
          "barpolar": [
           {
            "marker": {
             "line": {
              "color": "#E5ECF6",
              "width": 0.5
             },
             "pattern": {
              "fillmode": "overlay",
              "size": 10,
              "solidity": 0.2
             }
            },
            "type": "barpolar"
           }
          ],
          "carpet": [
           {
            "aaxis": {
             "endlinecolor": "#2a3f5f",
             "gridcolor": "white",
             "linecolor": "white",
             "minorgridcolor": "white",
             "startlinecolor": "#2a3f5f"
            },
            "baxis": {
             "endlinecolor": "#2a3f5f",
             "gridcolor": "white",
             "linecolor": "white",
             "minorgridcolor": "white",
             "startlinecolor": "#2a3f5f"
            },
            "type": "carpet"
           }
          ],
          "choropleth": [
           {
            "colorbar": {
             "outlinewidth": 0,
             "ticks": ""
            },
            "type": "choropleth"
           }
          ],
          "contour": [
           {
            "colorbar": {
             "outlinewidth": 0,
             "ticks": ""
            },
            "colorscale": [
             [
              0,
              "#0d0887"
             ],
             [
              0.1111111111111111,
              "#46039f"
             ],
             [
              0.2222222222222222,
              "#7201a8"
             ],
             [
              0.3333333333333333,
              "#9c179e"
             ],
             [
              0.4444444444444444,
              "#bd3786"
             ],
             [
              0.5555555555555556,
              "#d8576b"
             ],
             [
              0.6666666666666666,
              "#ed7953"
             ],
             [
              0.7777777777777778,
              "#fb9f3a"
             ],
             [
              0.8888888888888888,
              "#fdca26"
             ],
             [
              1,
              "#f0f921"
             ]
            ],
            "type": "contour"
           }
          ],
          "contourcarpet": [
           {
            "colorbar": {
             "outlinewidth": 0,
             "ticks": ""
            },
            "type": "contourcarpet"
           }
          ],
          "heatmap": [
           {
            "colorbar": {
             "outlinewidth": 0,
             "ticks": ""
            },
            "colorscale": [
             [
              0,
              "#0d0887"
             ],
             [
              0.1111111111111111,
              "#46039f"
             ],
             [
              0.2222222222222222,
              "#7201a8"
             ],
             [
              0.3333333333333333,
              "#9c179e"
             ],
             [
              0.4444444444444444,
              "#bd3786"
             ],
             [
              0.5555555555555556,
              "#d8576b"
             ],
             [
              0.6666666666666666,
              "#ed7953"
             ],
             [
              0.7777777777777778,
              "#fb9f3a"
             ],
             [
              0.8888888888888888,
              "#fdca26"
             ],
             [
              1,
              "#f0f921"
             ]
            ],
            "type": "heatmap"
           }
          ],
          "heatmapgl": [
           {
            "colorbar": {
             "outlinewidth": 0,
             "ticks": ""
            },
            "colorscale": [
             [
              0,
              "#0d0887"
             ],
             [
              0.1111111111111111,
              "#46039f"
             ],
             [
              0.2222222222222222,
              "#7201a8"
             ],
             [
              0.3333333333333333,
              "#9c179e"
             ],
             [
              0.4444444444444444,
              "#bd3786"
             ],
             [
              0.5555555555555556,
              "#d8576b"
             ],
             [
              0.6666666666666666,
              "#ed7953"
             ],
             [
              0.7777777777777778,
              "#fb9f3a"
             ],
             [
              0.8888888888888888,
              "#fdca26"
             ],
             [
              1,
              "#f0f921"
             ]
            ],
            "type": "heatmapgl"
           }
          ],
          "histogram": [
           {
            "marker": {
             "pattern": {
              "fillmode": "overlay",
              "size": 10,
              "solidity": 0.2
             }
            },
            "type": "histogram"
           }
          ],
          "histogram2d": [
           {
            "colorbar": {
             "outlinewidth": 0,
             "ticks": ""
            },
            "colorscale": [
             [
              0,
              "#0d0887"
             ],
             [
              0.1111111111111111,
              "#46039f"
             ],
             [
              0.2222222222222222,
              "#7201a8"
             ],
             [
              0.3333333333333333,
              "#9c179e"
             ],
             [
              0.4444444444444444,
              "#bd3786"
             ],
             [
              0.5555555555555556,
              "#d8576b"
             ],
             [
              0.6666666666666666,
              "#ed7953"
             ],
             [
              0.7777777777777778,
              "#fb9f3a"
             ],
             [
              0.8888888888888888,
              "#fdca26"
             ],
             [
              1,
              "#f0f921"
             ]
            ],
            "type": "histogram2d"
           }
          ],
          "histogram2dcontour": [
           {
            "colorbar": {
             "outlinewidth": 0,
             "ticks": ""
            },
            "colorscale": [
             [
              0,
              "#0d0887"
             ],
             [
              0.1111111111111111,
              "#46039f"
             ],
             [
              0.2222222222222222,
              "#7201a8"
             ],
             [
              0.3333333333333333,
              "#9c179e"
             ],
             [
              0.4444444444444444,
              "#bd3786"
             ],
             [
              0.5555555555555556,
              "#d8576b"
             ],
             [
              0.6666666666666666,
              "#ed7953"
             ],
             [
              0.7777777777777778,
              "#fb9f3a"
             ],
             [
              0.8888888888888888,
              "#fdca26"
             ],
             [
              1,
              "#f0f921"
             ]
            ],
            "type": "histogram2dcontour"
           }
          ],
          "mesh3d": [
           {
            "colorbar": {
             "outlinewidth": 0,
             "ticks": ""
            },
            "type": "mesh3d"
           }
          ],
          "parcoords": [
           {
            "line": {
             "colorbar": {
              "outlinewidth": 0,
              "ticks": ""
             }
            },
            "type": "parcoords"
           }
          ],
          "pie": [
           {
            "automargin": true,
            "type": "pie"
           }
          ],
          "scatter": [
           {
            "marker": {
             "colorbar": {
              "outlinewidth": 0,
              "ticks": ""
             }
            },
            "type": "scatter"
           }
          ],
          "scatter3d": [
           {
            "line": {
             "colorbar": {
              "outlinewidth": 0,
              "ticks": ""
             }
            },
            "marker": {
             "colorbar": {
              "outlinewidth": 0,
              "ticks": ""
             }
            },
            "type": "scatter3d"
           }
          ],
          "scattercarpet": [
           {
            "marker": {
             "colorbar": {
              "outlinewidth": 0,
              "ticks": ""
             }
            },
            "type": "scattercarpet"
           }
          ],
          "scattergeo": [
           {
            "marker": {
             "colorbar": {
              "outlinewidth": 0,
              "ticks": ""
             }
            },
            "type": "scattergeo"
           }
          ],
          "scattergl": [
           {
            "marker": {
             "colorbar": {
              "outlinewidth": 0,
              "ticks": ""
             }
            },
            "type": "scattergl"
           }
          ],
          "scattermapbox": [
           {
            "marker": {
             "colorbar": {
              "outlinewidth": 0,
              "ticks": ""
             }
            },
            "type": "scattermapbox"
           }
          ],
          "scatterpolar": [
           {
            "marker": {
             "colorbar": {
              "outlinewidth": 0,
              "ticks": ""
             }
            },
            "type": "scatterpolar"
           }
          ],
          "scatterpolargl": [
           {
            "marker": {
             "colorbar": {
              "outlinewidth": 0,
              "ticks": ""
             }
            },
            "type": "scatterpolargl"
           }
          ],
          "scatterternary": [
           {
            "marker": {
             "colorbar": {
              "outlinewidth": 0,
              "ticks": ""
             }
            },
            "type": "scatterternary"
           }
          ],
          "surface": [
           {
            "colorbar": {
             "outlinewidth": 0,
             "ticks": ""
            },
            "colorscale": [
             [
              0,
              "#0d0887"
             ],
             [
              0.1111111111111111,
              "#46039f"
             ],
             [
              0.2222222222222222,
              "#7201a8"
             ],
             [
              0.3333333333333333,
              "#9c179e"
             ],
             [
              0.4444444444444444,
              "#bd3786"
             ],
             [
              0.5555555555555556,
              "#d8576b"
             ],
             [
              0.6666666666666666,
              "#ed7953"
             ],
             [
              0.7777777777777778,
              "#fb9f3a"
             ],
             [
              0.8888888888888888,
              "#fdca26"
             ],
             [
              1,
              "#f0f921"
             ]
            ],
            "type": "surface"
           }
          ],
          "table": [
           {
            "cells": {
             "fill": {
              "color": "#EBF0F8"
             },
             "line": {
              "color": "white"
             }
            },
            "header": {
             "fill": {
              "color": "#C8D4E3"
             },
             "line": {
              "color": "white"
             }
            },
            "type": "table"
           }
          ]
         },
         "layout": {
          "annotationdefaults": {
           "arrowcolor": "#2a3f5f",
           "arrowhead": 0,
           "arrowwidth": 1
          },
          "autotypenumbers": "strict",
          "coloraxis": {
           "colorbar": {
            "outlinewidth": 0,
            "ticks": ""
           }
          },
          "colorscale": {
           "diverging": [
            [
             0,
             "#8e0152"
            ],
            [
             0.1,
             "#c51b7d"
            ],
            [
             0.2,
             "#de77ae"
            ],
            [
             0.3,
             "#f1b6da"
            ],
            [
             0.4,
             "#fde0ef"
            ],
            [
             0.5,
             "#f7f7f7"
            ],
            [
             0.6,
             "#e6f5d0"
            ],
            [
             0.7,
             "#b8e186"
            ],
            [
             0.8,
             "#7fbc41"
            ],
            [
             0.9,
             "#4d9221"
            ],
            [
             1,
             "#276419"
            ]
           ],
           "sequential": [
            [
             0,
             "#0d0887"
            ],
            [
             0.1111111111111111,
             "#46039f"
            ],
            [
             0.2222222222222222,
             "#7201a8"
            ],
            [
             0.3333333333333333,
             "#9c179e"
            ],
            [
             0.4444444444444444,
             "#bd3786"
            ],
            [
             0.5555555555555556,
             "#d8576b"
            ],
            [
             0.6666666666666666,
             "#ed7953"
            ],
            [
             0.7777777777777778,
             "#fb9f3a"
            ],
            [
             0.8888888888888888,
             "#fdca26"
            ],
            [
             1,
             "#f0f921"
            ]
           ],
           "sequentialminus": [
            [
             0,
             "#0d0887"
            ],
            [
             0.1111111111111111,
             "#46039f"
            ],
            [
             0.2222222222222222,
             "#7201a8"
            ],
            [
             0.3333333333333333,
             "#9c179e"
            ],
            [
             0.4444444444444444,
             "#bd3786"
            ],
            [
             0.5555555555555556,
             "#d8576b"
            ],
            [
             0.6666666666666666,
             "#ed7953"
            ],
            [
             0.7777777777777778,
             "#fb9f3a"
            ],
            [
             0.8888888888888888,
             "#fdca26"
            ],
            [
             1,
             "#f0f921"
            ]
           ]
          },
          "colorway": [
           "#636efa",
           "#EF553B",
           "#00cc96",
           "#ab63fa",
           "#FFA15A",
           "#19d3f3",
           "#FF6692",
           "#B6E880",
           "#FF97FF",
           "#FECB52"
          ],
          "font": {
           "color": "#2a3f5f"
          },
          "geo": {
           "bgcolor": "white",
           "lakecolor": "white",
           "landcolor": "#E5ECF6",
           "showlakes": true,
           "showland": true,
           "subunitcolor": "white"
          },
          "hoverlabel": {
           "align": "left"
          },
          "hovermode": "closest",
          "mapbox": {
           "style": "light"
          },
          "paper_bgcolor": "white",
          "plot_bgcolor": "#E5ECF6",
          "polar": {
           "angularaxis": {
            "gridcolor": "white",
            "linecolor": "white",
            "ticks": ""
           },
           "bgcolor": "#E5ECF6",
           "radialaxis": {
            "gridcolor": "white",
            "linecolor": "white",
            "ticks": ""
           }
          },
          "scene": {
           "xaxis": {
            "backgroundcolor": "#E5ECF6",
            "gridcolor": "white",
            "gridwidth": 2,
            "linecolor": "white",
            "showbackground": true,
            "ticks": "",
            "zerolinecolor": "white"
           },
           "yaxis": {
            "backgroundcolor": "#E5ECF6",
            "gridcolor": "white",
            "gridwidth": 2,
            "linecolor": "white",
            "showbackground": true,
            "ticks": "",
            "zerolinecolor": "white"
           },
           "zaxis": {
            "backgroundcolor": "#E5ECF6",
            "gridcolor": "white",
            "gridwidth": 2,
            "linecolor": "white",
            "showbackground": true,
            "ticks": "",
            "zerolinecolor": "white"
           }
          },
          "shapedefaults": {
           "line": {
            "color": "#2a3f5f"
           }
          },
          "ternary": {
           "aaxis": {
            "gridcolor": "white",
            "linecolor": "white",
            "ticks": ""
           },
           "baxis": {
            "gridcolor": "white",
            "linecolor": "white",
            "ticks": ""
           },
           "bgcolor": "#E5ECF6",
           "caxis": {
            "gridcolor": "white",
            "linecolor": "white",
            "ticks": ""
           }
          },
          "title": {
           "x": 0.05
          },
          "xaxis": {
           "automargin": true,
           "gridcolor": "white",
           "linecolor": "white",
           "ticks": "",
           "title": {
            "standoff": 15
           },
           "zerolinecolor": "white",
           "zerolinewidth": 2
          },
          "yaxis": {
           "automargin": true,
           "gridcolor": "white",
           "linecolor": "white",
           "ticks": "",
           "title": {
            "standoff": 15
           },
           "zerolinecolor": "white",
           "zerolinewidth": 2
          }
         }
        }
       }
      },
      "text/html": [
       "<div>                            <div id=\"53428902-f8b7-480a-b169-39c0a61a156c\" class=\"plotly-graph-div\" style=\"height:525px; width:100%;\"></div>            <script type=\"text/javascript\">                require([\"plotly\"], function(Plotly) {                    window.PLOTLYENV=window.PLOTLYENV || {};                                    if (document.getElementById(\"53428902-f8b7-480a-b169-39c0a61a156c\")) {                    Plotly.newPlot(                        \"53428902-f8b7-480a-b169-39c0a61a156c\",                        [{\"fill\":\"toself\",\"name\":\"Product A\",\"r\":[0.47,0.344,0.36,0.76,0.56],\"theta\":[\"sigma\",\"t_persist\",\"r_lateral\",\"r_vertical\",\"b_fwd\"],\"type\":\"scatterpolar\"},{\"fill\":\"toself\",\"name\":\"Product B\",\"r\":[0.93,0.996,0.36,0.89,0.56],\"theta\":[\"sigma\",\"t_persist\",\"r_lateral\",\"r_vertical\",\"b_fwd\"],\"type\":\"scatterpolar\"}],                        {\"polar\":{\"radialaxis\":{\"visible\":true}},\"showlegend\":false,\"template\":{\"data\":{\"bar\":[{\"error_x\":{\"color\":\"#2a3f5f\"},\"error_y\":{\"color\":\"#2a3f5f\"},\"marker\":{\"line\":{\"color\":\"#E5ECF6\",\"width\":0.5},\"pattern\":{\"fillmode\":\"overlay\",\"size\":10,\"solidity\":0.2}},\"type\":\"bar\"}],\"barpolar\":[{\"marker\":{\"line\":{\"color\":\"#E5ECF6\",\"width\":0.5},\"pattern\":{\"fillmode\":\"overlay\",\"size\":10,\"solidity\":0.2}},\"type\":\"barpolar\"}],\"carpet\":[{\"aaxis\":{\"endlinecolor\":\"#2a3f5f\",\"gridcolor\":\"white\",\"linecolor\":\"white\",\"minorgridcolor\":\"white\",\"startlinecolor\":\"#2a3f5f\"},\"baxis\":{\"endlinecolor\":\"#2a3f5f\",\"gridcolor\":\"white\",\"linecolor\":\"white\",\"minorgridcolor\":\"white\",\"startlinecolor\":\"#2a3f5f\"},\"type\":\"carpet\"}],\"choropleth\":[{\"colorbar\":{\"outlinewidth\":0,\"ticks\":\"\"},\"type\":\"choropleth\"}],\"contour\":[{\"colorbar\":{\"outlinewidth\":0,\"ticks\":\"\"},\"colorscale\":[[0.0,\"#0d0887\"],[0.1111111111111111,\"#46039f\"],[0.2222222222222222,\"#7201a8\"],[0.3333333333333333,\"#9c179e\"],[0.4444444444444444,\"#bd3786\"],[0.5555555555555556,\"#d8576b\"],[0.6666666666666666,\"#ed7953\"],[0.7777777777777778,\"#fb9f3a\"],[0.8888888888888888,\"#fdca26\"],[1.0,\"#f0f921\"]],\"type\":\"contour\"}],\"contourcarpet\":[{\"colorbar\":{\"outlinewidth\":0,\"ticks\":\"\"},\"type\":\"contourcarpet\"}],\"heatmap\":[{\"colorbar\":{\"outlinewidth\":0,\"ticks\":\"\"},\"colorscale\":[[0.0,\"#0d0887\"],[0.1111111111111111,\"#46039f\"],[0.2222222222222222,\"#7201a8\"],[0.3333333333333333,\"#9c179e\"],[0.4444444444444444,\"#bd3786\"],[0.5555555555555556,\"#d8576b\"],[0.6666666666666666,\"#ed7953\"],[0.7777777777777778,\"#fb9f3a\"],[0.8888888888888888,\"#fdca26\"],[1.0,\"#f0f921\"]],\"type\":\"heatmap\"}],\"heatmapgl\":[{\"colorbar\":{\"outlinewidth\":0,\"ticks\":\"\"},\"colorscale\":[[0.0,\"#0d0887\"],[0.1111111111111111,\"#46039f\"],[0.2222222222222222,\"#7201a8\"],[0.3333333333333333,\"#9c179e\"],[0.4444444444444444,\"#bd3786\"],[0.5555555555555556,\"#d8576b\"],[0.6666666666666666,\"#ed7953\"],[0.7777777777777778,\"#fb9f3a\"],[0.8888888888888888,\"#fdca26\"],[1.0,\"#f0f921\"]],\"type\":\"heatmapgl\"}],\"histogram\":[{\"marker\":{\"pattern\":{\"fillmode\":\"overlay\",\"size\":10,\"solidity\":0.2}},\"type\":\"histogram\"}],\"histogram2d\":[{\"colorbar\":{\"outlinewidth\":0,\"ticks\":\"\"},\"colorscale\":[[0.0,\"#0d0887\"],[0.1111111111111111,\"#46039f\"],[0.2222222222222222,\"#7201a8\"],[0.3333333333333333,\"#9c179e\"],[0.4444444444444444,\"#bd3786\"],[0.5555555555555556,\"#d8576b\"],[0.6666666666666666,\"#ed7953\"],[0.7777777777777778,\"#fb9f3a\"],[0.8888888888888888,\"#fdca26\"],[1.0,\"#f0f921\"]],\"type\":\"histogram2d\"}],\"histogram2dcontour\":[{\"colorbar\":{\"outlinewidth\":0,\"ticks\":\"\"},\"colorscale\":[[0.0,\"#0d0887\"],[0.1111111111111111,\"#46039f\"],[0.2222222222222222,\"#7201a8\"],[0.3333333333333333,\"#9c179e\"],[0.4444444444444444,\"#bd3786\"],[0.5555555555555556,\"#d8576b\"],[0.6666666666666666,\"#ed7953\"],[0.7777777777777778,\"#fb9f3a\"],[0.8888888888888888,\"#fdca26\"],[1.0,\"#f0f921\"]],\"type\":\"histogram2dcontour\"}],\"mesh3d\":[{\"colorbar\":{\"outlinewidth\":0,\"ticks\":\"\"},\"type\":\"mesh3d\"}],\"parcoords\":[{\"line\":{\"colorbar\":{\"outlinewidth\":0,\"ticks\":\"\"}},\"type\":\"parcoords\"}],\"pie\":[{\"automargin\":true,\"type\":\"pie\"}],\"scatter\":[{\"marker\":{\"colorbar\":{\"outlinewidth\":0,\"ticks\":\"\"}},\"type\":\"scatter\"}],\"scatter3d\":[{\"line\":{\"colorbar\":{\"outlinewidth\":0,\"ticks\":\"\"}},\"marker\":{\"colorbar\":{\"outlinewidth\":0,\"ticks\":\"\"}},\"type\":\"scatter3d\"}],\"scattercarpet\":[{\"marker\":{\"colorbar\":{\"outlinewidth\":0,\"ticks\":\"\"}},\"type\":\"scattercarpet\"}],\"scattergeo\":[{\"marker\":{\"colorbar\":{\"outlinewidth\":0,\"ticks\":\"\"}},\"type\":\"scattergeo\"}],\"scattergl\":[{\"marker\":{\"colorbar\":{\"outlinewidth\":0,\"ticks\":\"\"}},\"type\":\"scattergl\"}],\"scattermapbox\":[{\"marker\":{\"colorbar\":{\"outlinewidth\":0,\"ticks\":\"\"}},\"type\":\"scattermapbox\"}],\"scatterpolar\":[{\"marker\":{\"colorbar\":{\"outlinewidth\":0,\"ticks\":\"\"}},\"type\":\"scatterpolar\"}],\"scatterpolargl\":[{\"marker\":{\"colorbar\":{\"outlinewidth\":0,\"ticks\":\"\"}},\"type\":\"scatterpolargl\"}],\"scatterternary\":[{\"marker\":{\"colorbar\":{\"outlinewidth\":0,\"ticks\":\"\"}},\"type\":\"scatterternary\"}],\"surface\":[{\"colorbar\":{\"outlinewidth\":0,\"ticks\":\"\"},\"colorscale\":[[0.0,\"#0d0887\"],[0.1111111111111111,\"#46039f\"],[0.2222222222222222,\"#7201a8\"],[0.3333333333333333,\"#9c179e\"],[0.4444444444444444,\"#bd3786\"],[0.5555555555555556,\"#d8576b\"],[0.6666666666666666,\"#ed7953\"],[0.7777777777777778,\"#fb9f3a\"],[0.8888888888888888,\"#fdca26\"],[1.0,\"#f0f921\"]],\"type\":\"surface\"}],\"table\":[{\"cells\":{\"fill\":{\"color\":\"#EBF0F8\"},\"line\":{\"color\":\"white\"}},\"header\":{\"fill\":{\"color\":\"#C8D4E3\"},\"line\":{\"color\":\"white\"}},\"type\":\"table\"}]},\"layout\":{\"annotationdefaults\":{\"arrowcolor\":\"#2a3f5f\",\"arrowhead\":0,\"arrowwidth\":1},\"autotypenumbers\":\"strict\",\"coloraxis\":{\"colorbar\":{\"outlinewidth\":0,\"ticks\":\"\"}},\"colorscale\":{\"diverging\":[[0,\"#8e0152\"],[0.1,\"#c51b7d\"],[0.2,\"#de77ae\"],[0.3,\"#f1b6da\"],[0.4,\"#fde0ef\"],[0.5,\"#f7f7f7\"],[0.6,\"#e6f5d0\"],[0.7,\"#b8e186\"],[0.8,\"#7fbc41\"],[0.9,\"#4d9221\"],[1,\"#276419\"]],\"sequential\":[[0.0,\"#0d0887\"],[0.1111111111111111,\"#46039f\"],[0.2222222222222222,\"#7201a8\"],[0.3333333333333333,\"#9c179e\"],[0.4444444444444444,\"#bd3786\"],[0.5555555555555556,\"#d8576b\"],[0.6666666666666666,\"#ed7953\"],[0.7777777777777778,\"#fb9f3a\"],[0.8888888888888888,\"#fdca26\"],[1.0,\"#f0f921\"]],\"sequentialminus\":[[0.0,\"#0d0887\"],[0.1111111111111111,\"#46039f\"],[0.2222222222222222,\"#7201a8\"],[0.3333333333333333,\"#9c179e\"],[0.4444444444444444,\"#bd3786\"],[0.5555555555555556,\"#d8576b\"],[0.6666666666666666,\"#ed7953\"],[0.7777777777777778,\"#fb9f3a\"],[0.8888888888888888,\"#fdca26\"],[1.0,\"#f0f921\"]]},\"colorway\":[\"#636efa\",\"#EF553B\",\"#00cc96\",\"#ab63fa\",\"#FFA15A\",\"#19d3f3\",\"#FF6692\",\"#B6E880\",\"#FF97FF\",\"#FECB52\"],\"font\":{\"color\":\"#2a3f5f\"},\"geo\":{\"bgcolor\":\"white\",\"lakecolor\":\"white\",\"landcolor\":\"#E5ECF6\",\"showlakes\":true,\"showland\":true,\"subunitcolor\":\"white\"},\"hoverlabel\":{\"align\":\"left\"},\"hovermode\":\"closest\",\"mapbox\":{\"style\":\"light\"},\"paper_bgcolor\":\"white\",\"plot_bgcolor\":\"#E5ECF6\",\"polar\":{\"angularaxis\":{\"gridcolor\":\"white\",\"linecolor\":\"white\",\"ticks\":\"\"},\"bgcolor\":\"#E5ECF6\",\"radialaxis\":{\"gridcolor\":\"white\",\"linecolor\":\"white\",\"ticks\":\"\"}},\"scene\":{\"xaxis\":{\"backgroundcolor\":\"#E5ECF6\",\"gridcolor\":\"white\",\"gridwidth\":2,\"linecolor\":\"white\",\"showbackground\":true,\"ticks\":\"\",\"zerolinecolor\":\"white\"},\"yaxis\":{\"backgroundcolor\":\"#E5ECF6\",\"gridcolor\":\"white\",\"gridwidth\":2,\"linecolor\":\"white\",\"showbackground\":true,\"ticks\":\"\",\"zerolinecolor\":\"white\"},\"zaxis\":{\"backgroundcolor\":\"#E5ECF6\",\"gridcolor\":\"white\",\"gridwidth\":2,\"linecolor\":\"white\",\"showbackground\":true,\"ticks\":\"\",\"zerolinecolor\":\"white\"}},\"shapedefaults\":{\"line\":{\"color\":\"#2a3f5f\"}},\"ternary\":{\"aaxis\":{\"gridcolor\":\"white\",\"linecolor\":\"white\",\"ticks\":\"\"},\"baxis\":{\"gridcolor\":\"white\",\"linecolor\":\"white\",\"ticks\":\"\"},\"bgcolor\":\"#E5ECF6\",\"caxis\":{\"gridcolor\":\"white\",\"linecolor\":\"white\",\"ticks\":\"\"}},\"title\":{\"x\":0.05},\"xaxis\":{\"automargin\":true,\"gridcolor\":\"white\",\"linecolor\":\"white\",\"ticks\":\"\",\"title\":{\"standoff\":15},\"zerolinecolor\":\"white\",\"zerolinewidth\":2},\"yaxis\":{\"automargin\":true,\"gridcolor\":\"white\",\"linecolor\":\"white\",\"ticks\":\"\",\"title\":{\"standoff\":15},\"zerolinecolor\":\"white\",\"zerolinewidth\":2}}}},                        {\"responsive\": true}                    ).then(function(){\n",
       "                            \n",
       "var gd = document.getElementById('53428902-f8b7-480a-b169-39c0a61a156c');\n",
       "var x = new MutationObserver(function (mutations, observer) {{\n",
       "        var display = window.getComputedStyle(gd).display;\n",
       "        if (!display || display === 'none') {{\n",
       "            console.log([gd, 'removed!']);\n",
       "            Plotly.purge(gd);\n",
       "            observer.disconnect();\n",
       "        }}\n",
       "}});\n",
       "\n",
       "// Listen for the removal of the full notebook cells\n",
       "var notebookContainer = gd.closest('#notebook-container');\n",
       "if (notebookContainer) {{\n",
       "    x.observe(notebookContainer, {childList: true});\n",
       "}}\n",
       "\n",
       "// Listen for the clearing of the current output cell\n",
       "var outputEl = gd.closest('.output');\n",
       "if (outputEl) {{\n",
       "    x.observe(outputEl, {childList: true});\n",
       "}}\n",
       "\n",
       "                        })                };                });            </script>        </div>"
      ]
     },
     "metadata": {},
     "output_type": "display_data"
    }
   ],
   "source": [
    "categories = ['sigma','t_persist','r_lateral', 'r_vertical', 'b_fwd']\n",
    "\n",
    "fig = go.Figure()\n",
    "\n",
    "fig.add_trace(go.Scatterpolar(\n",
    "      r=[0.47, 0.344, 0.36, 0.76, 0.56],\n",
    "      theta=categories,\n",
    "      fill='toself',\n",
    "      name='Product A'\n",
    "))\n",
    "fig.add_trace(go.Scatterpolar(\n",
    "      r=[0.93, 0.996, 0.36, 0.89, 0.56],\n",
    "      theta=categories,\n",
    "      fill='toself',\n",
    "      name='Product B'\n",
    "))\n",
    "\n",
    "fig.update_layout(\n",
    "  polar=dict(\n",
    "    radialaxis=dict(\n",
    "      visible=True\n",
    "    )),\n",
    "  showlegend=False\n",
    ")\n",
    "\n",
    "fig.show()"
   ]
  },
  {
   "cell_type": "code",
   "execution_count": 53,
   "id": "developing-syndrome",
   "metadata": {},
   "outputs": [
    {
     "data": {
      "text/plain": [
       "0.4666666666666666"
      ]
     },
     "execution_count": 53,
     "metadata": {},
     "output_type": "execute_result"
    }
   ],
   "source": [
    "1.4/3"
   ]
  }
 ],
 "metadata": {
  "kernelspec": {
   "display_name": "Python 3",
   "language": "python",
   "name": "python3"
  },
  "language_info": {
   "codemirror_mode": {
    "name": "ipython",
    "version": 3
   },
   "file_extension": ".py",
   "mimetype": "text/x-python",
   "name": "python",
   "nbconvert_exporter": "python",
   "pygments_lexer": "ipython3",
   "version": "3.8.10"
  }
 },
 "nbformat": 4,
 "nbformat_minor": 5
}
