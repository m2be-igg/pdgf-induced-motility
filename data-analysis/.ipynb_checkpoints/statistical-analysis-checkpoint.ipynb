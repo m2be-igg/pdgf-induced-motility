{
 "cells": [
  {
   "cell_type": "markdown",
   "id": "5f292c80",
   "metadata": {},
   "source": [
    "# Statistical analysis for the experimental data\n",
    "\n",
    "🎯 **Goal**: Confirm that the effect produced by the addition of PDGF-BB is statistically significant\n",
    "\n",
    "---\n",
    "\n",
    "## Context\n",
    "To make a more informed decision on whether the presence and spatial location of PDGF-BB is leading to different migration patterns, we will perform some statistical tests on the experimental data.\n",
    "\n",
    "Since we are comparing 3 groups (control, MC and OC), we will use a one-way ANOVA test to find if there are any statistical differences between them. Subsequently, if we detect that there are differences, we will run some post-hoc Tukey tests to identify which pairs of groups are different from each other. When we only have 2 groups (control and OC), we use a single one-way ANOVA test.\n",
    "\n",
    "We perform these tests for each day of experiments and present the corresponding p-value."
   ]
  },
  {
   "cell_type": "code",
   "execution_count": 7,
   "id": "e85a08b4",
   "metadata": {},
   "outputs": [],
   "source": [
    "from pathlib import Path\n",
    "\n",
    "import pandas as pd\n",
    "import seaborn as sns\n",
    "import matplotlib.pyplot as plt\n",
    "from scipy import stats\n",
    "from statsmodels.stats.multicomp import pairwise_tukeyhsd\n",
    "\n",
    "DATA_PATH = Path('processed-data/')"
   ]
  },
  {
   "cell_type": "code",
   "execution_count": 8,
   "id": "c4d52750",
   "metadata": {},
   "outputs": [],
   "source": [
    "def return_asterisks(pvalue):\n",
    "    \"\"\"Converts a given p-value into the corresponding number of asterisks.\"\"\"\n",
    "    \n",
    "    if pvalue <= 0.001:\n",
    "        return \"***\"\n",
    "    elif pvalue <= 0.01:\n",
    "        return \"**\"\n",
    "    elif pvalue <= 0.05:\n",
    "        return \"*\"\n",
    "    \n",
    "    return \"-\""
   ]
  },
  {
   "cell_type": "markdown",
   "id": "60a9261b",
   "metadata": {},
   "source": [
    "## 2.5 mg/mL matrix - 96 hours\n",
    "\n",
    "### One-way ANOVA between the three conditions"
   ]
  },
  {
   "cell_type": "code",
   "execution_count": 9,
   "id": "499d5173",
   "metadata": {},
   "outputs": [
    {
     "name": "stdout",
     "output_type": "stream",
     "text": [
      "p-value for day 1: 2.243438544672415e-23 (***)\n",
      "p-value for day 2: 1.9979550780179422e-32 (***)\n",
      "p-value for day 3: 2.2080571988330536e-45 (***)\n",
      "p-value for day 4: 2.3840512134165863e-37 (***)\n"
     ]
    }
   ],
   "source": [
    "# Read the processed data into a DF\n",
    "single_chamber_df = pd.read_csv(DATA_PATH / '1chamber-96hours.csv')\n",
    "\n",
    "# Perform a one-way ANOVA between all conditions\n",
    "for day in single_chamber_df['day'].unique():\n",
    "    day_data = single_chamber_df[single_chamber_df['day'] == day]\n",
    "\n",
    "    fvalue, pvalue = stats.f_oneway(day_data[day_data['condition'] == 'Control']['fixed_distance'], \n",
    "                                    day_data[day_data['condition'] == 'Monolayer chamber']['fixed_distance'],\n",
    "                                    day_data[day_data['condition'] == 'Opposite chamber']['fixed_distance'])\n",
    "\n",
    "    print(f'p-value for day {day}: {pvalue} ({return_asterisks(pvalue)})')"
   ]
  },
  {
   "cell_type": "markdown",
   "id": "a93dfdf7",
   "metadata": {},
   "source": [
    "### Post-hoc tests"
   ]
  },
  {
   "cell_type": "code",
   "execution_count": 10,
   "id": "9bb58c34",
   "metadata": {},
   "outputs": [
    {
     "name": "stdout",
     "output_type": "stream",
     "text": [
      "\n",
      "Results for day 1\n",
      "           Multiple Comparison of Means - Tukey HSD, FWER=0.00           \n",
      "=========================================================================\n",
      "      group1            group2      meandiff p-adj  lower   upper  reject\n",
      "-------------------------------------------------------------------------\n",
      "          Control Monolayer chamber  34.0436 0.001 10.3955 57.6917   True\n",
      "          Control  Opposite chamber  66.6714 0.001 43.7371 89.6056   True\n",
      "Monolayer chamber  Opposite chamber  32.6278 0.001 12.5389 52.7166   True\n",
      "-------------------------------------------------------------------------\n",
      "\n",
      "Results for day 2\n",
      "           Multiple Comparison of Means - Tukey HSD, FWER=0.00            \n",
      "==========================================================================\n",
      "      group1            group2      meandiff p-adj  lower   upper   reject\n",
      "--------------------------------------------------------------------------\n",
      "          Control Monolayer chamber  58.0939 0.001 27.3304  88.8575   True\n",
      "          Control  Opposite chamber 103.4103 0.001 73.7044 133.1161   True\n",
      "Monolayer chamber  Opposite chamber  45.3164 0.001 18.9752  71.6575   True\n",
      "--------------------------------------------------------------------------\n",
      "\n",
      "Results for day 3\n",
      "            Multiple Comparison of Means - Tukey HSD, FWER=0.00            \n",
      "===========================================================================\n",
      "      group1            group2      meandiff p-adj  lower    upper   reject\n",
      "---------------------------------------------------------------------------\n",
      "          Control Monolayer chamber  77.9104 0.001  40.8447 114.9761   True\n",
      "          Control  Opposite chamber 144.8167 0.001 109.9736 179.6598   True\n",
      "Monolayer chamber  Opposite chamber  66.9063 0.001  34.2075   99.605   True\n",
      "---------------------------------------------------------------------------\n",
      "\n",
      "Results for day 4\n",
      "            Multiple Comparison of Means - Tukey HSD, FWER=0.00            \n",
      "===========================================================================\n",
      "      group1            group2      meandiff p-adj  lower    upper   reject\n",
      "---------------------------------------------------------------------------\n",
      "          Control Monolayer chamber  91.5366 0.001  50.3402 132.7329   True\n",
      "          Control  Opposite chamber 139.0349 0.001 101.6848 176.3851   True\n",
      "Monolayer chamber  Opposite chamber  47.4984 0.001  14.0472  80.9495   True\n",
      "---------------------------------------------------------------------------\n"
     ]
    }
   ],
   "source": [
    "# Set the rejection value to identify the groups with differences\n",
    "rejection_pvalue = 0.001\n",
    "\n",
    "for day in single_chamber_df['day'].unique():\n",
    "    day_data = single_chamber_df[single_chamber_df['day'] == day]\n",
    "    tukey = pairwise_tukeyhsd(day_data['fixed_distance'], day_data['condition'], alpha=rejection_pvalue)\n",
    "    \n",
    "    print(f'\\nResults for day {day}')\n",
    "    print(tukey)"
   ]
  },
  {
   "cell_type": "markdown",
   "id": "212d2726",
   "metadata": {},
   "source": [
    "## 2.5 mg/mL matrix - 216 hours"
   ]
  },
  {
   "cell_type": "code",
   "execution_count": 5,
   "id": "d6ce15e2",
   "metadata": {},
   "outputs": [
    {
     "name": "stdout",
     "output_type": "stream",
     "text": [
      "p-value for day 1: 6.94244762434078e-10 (***)\n",
      "p-value for day 2: 1.5871213114475845e-22 (***)\n",
      "p-value for day 3: 4.391514061384971e-25 (***)\n",
      "p-value for day 4: 1.0421255815115056e-20 (***)\n",
      "p-value for day 7: 3.6514562993049014e-41 (***)\n",
      "p-value for day 8: 9.182031264343604e-39 (***)\n",
      "p-value for day 9: 5.9527983136208366e-40 (***)\n"
     ]
    }
   ],
   "source": [
    "# Read the processed data into a DF\n",
    "three_chambers_df = pd.read_csv(DATA_PATH / '3ch-216hours.csv')\n",
    "\n",
    "# Perform a one-way ANOVA between all conditions\n",
    "for day in three_chambers_df['day'].unique():\n",
    "    day_data = three_chambers_df[three_chambers_df['day'] == day]\n",
    "\n",
    "    fvalue, pvalue = stats.f_oneway(day_data[day_data['condition'] == 'Control']['fixed_distance'], \n",
    "                                    day_data[day_data['condition'] == 'Opposite chamber']['fixed_distance'])\n",
    "\n",
    "    print(f'p-value for day {day}: {pvalue} ({return_asterisks(pvalue)})')"
   ]
  },
  {
   "cell_type": "markdown",
   "id": "b2cd1afa",
   "metadata": {},
   "source": [
    "## 4 mg/mL matrix - 96 hours"
   ]
  },
  {
   "cell_type": "code",
   "execution_count": 6,
   "id": "a90efea9",
   "metadata": {},
   "outputs": [
    {
     "name": "stdout",
     "output_type": "stream",
     "text": [
      "p-value for day 1: 1.9279825716816e-15 (***)\n",
      "p-value for day 2: 1.956489563333031e-13 (***)\n",
      "p-value for day 3: 1.0423642322416357e-15 (***)\n",
      "p-value for day 4: 8.882902647100095e-23 (***)\n"
     ]
    }
   ],
   "source": [
    "# Read the processed data into a DF\n",
    "high_density_df = pd.read_csv(DATA_PATH / '4mgml-96hours.csv')\n",
    "\n",
    "# Perform a one-way ANOVA between all conditions\n",
    "for day in high_density_df['day'].unique():\n",
    "    day_data = high_density_df[high_density_df['day'] == day]\n",
    "\n",
    "    fvalue, pvalue = stats.f_oneway(day_data[day_data['condition'] == 'Control']['fixed_distance'], \n",
    "                                    day_data[day_data['condition'] == 'Opposite channel']['fixed_distance'])\n",
    "\n",
    "    print(f'p-value for day {day}: {pvalue} ({return_asterisks(pvalue)})')"
   ]
  }
 ],
 "metadata": {
  "kernelspec": {
   "display_name": "Python 3",
   "language": "python",
   "name": "python3"
  },
  "language_info": {
   "codemirror_mode": {
    "name": "ipython",
    "version": 3
   },
   "file_extension": ".py",
   "mimetype": "text/x-python",
   "name": "python",
   "nbconvert_exporter": "python",
   "pygments_lexer": "ipython3",
   "version": "3.8.10"
  }
 },
 "nbformat": 4,
 "nbformat_minor": 5
}
