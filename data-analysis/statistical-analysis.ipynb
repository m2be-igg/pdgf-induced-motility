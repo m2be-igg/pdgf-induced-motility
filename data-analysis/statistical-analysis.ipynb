{
 "cells": [
  {
   "cell_type": "markdown",
   "id": "5f292c80",
   "metadata": {},
   "source": [
    "# Statistical analysis for the experimental data\n",
    "\n",
    "🎯 **Goal**: Confirm that the effect produced by the addition of PDGF-BB is statistically significant\n",
    "\n",
    "---\n",
    "\n",
    "## Context\n",
    "To make a more informed decision on whether the presence and spatial location of PDGF-BB is leading to different migration patterns, we will perform some statistical tests on the experimental data.\n",
    "\n",
    "Since we are comparing 3 groups (control, MC and OC), we will use a one-way ANOVA test to find if there are any statistical differences between them. Subsequently, if we detect that there are differences, we will run some post-hoc Tukey tests to identify which pairs of groups are different from each other. When we only have 2 groups (control and OC), we use a single one-way ANOVA test.\n",
    "\n",
    "We perform these tests for each day of experiments and present the corresponding p-value."
   ]
  },
  {
   "cell_type": "code",
   "execution_count": 1,
   "id": "e85a08b4",
   "metadata": {},
   "outputs": [],
   "source": [
    "from pathlib import Path\n",
    "\n",
    "import pandas as pd\n",
    "import seaborn as sns\n",
    "import matplotlib.pyplot as plt\n",
    "from scipy import stats\n",
    "from statsmodels.stats.multicomp import pairwise_tukeyhsd\n",
    "\n",
    "DATA_PATH = Path('processed-data/')"
   ]
  },
  {
   "cell_type": "code",
   "execution_count": 2,
   "id": "c4d52750",
   "metadata": {},
   "outputs": [],
   "source": [
    "def return_asterisks(pvalue):\n",
    "    \"\"\"Converts a given p-value into the corresponding number of asterisks.\"\"\"\n",
    "    \n",
    "    if pvalue <= 0.001:\n",
    "        return \"***\"\n",
    "    elif pvalue <= 0.01:\n",
    "        return \"**\"\n",
    "    elif pvalue <= 0.05:\n",
    "        return \"*\"\n",
    "    \n",
    "    return \"-\""
   ]
  },
  {
   "cell_type": "markdown",
   "id": "60a9261b",
   "metadata": {},
   "source": [
    "## 2.5 mg/mL matrix - 96 hours\n",
    "\n",
    "### One-way ANOVA between the three conditions"
   ]
  },
  {
   "cell_type": "code",
   "execution_count": 3,
   "id": "499d5173",
   "metadata": {},
   "outputs": [
    {
     "ename": "FileNotFoundError",
     "evalue": "[Errno 2] No such file or directory: 'processed-data\\\\1chamber-96hours.csv'",
     "output_type": "error",
     "traceback": [
      "\u001b[1;31m---------------------------------------------------------------------------\u001b[0m",
      "\u001b[1;31mFileNotFoundError\u001b[0m                         Traceback (most recent call last)",
      "\u001b[1;32m~\\AppData\\Local\\Temp/ipykernel_4828/1423811440.py\u001b[0m in \u001b[0;36m<module>\u001b[1;34m\u001b[0m\n\u001b[0;32m      1\u001b[0m \u001b[1;31m# Read the processed data into a DF\u001b[0m\u001b[1;33m\u001b[0m\u001b[1;33m\u001b[0m\u001b[1;33m\u001b[0m\u001b[0m\n\u001b[1;32m----> 2\u001b[1;33m \u001b[0msingle_chamber_df\u001b[0m \u001b[1;33m=\u001b[0m \u001b[0mpd\u001b[0m\u001b[1;33m.\u001b[0m\u001b[0mread_csv\u001b[0m\u001b[1;33m(\u001b[0m\u001b[0mDATA_PATH\u001b[0m \u001b[1;33m/\u001b[0m \u001b[1;34m'1chamber-96hours.csv'\u001b[0m\u001b[1;33m)\u001b[0m\u001b[1;33m\u001b[0m\u001b[1;33m\u001b[0m\u001b[0m\n\u001b[0m\u001b[0;32m      3\u001b[0m \u001b[1;33m\u001b[0m\u001b[0m\n\u001b[0;32m      4\u001b[0m \u001b[1;31m# Perform a one-way ANOVA between all conditions\u001b[0m\u001b[1;33m\u001b[0m\u001b[1;33m\u001b[0m\u001b[1;33m\u001b[0m\u001b[0m\n\u001b[0;32m      5\u001b[0m \u001b[1;32mfor\u001b[0m \u001b[0mday\u001b[0m \u001b[1;32min\u001b[0m \u001b[0msingle_chamber_df\u001b[0m\u001b[1;33m[\u001b[0m\u001b[1;34m'day'\u001b[0m\u001b[1;33m]\u001b[0m\u001b[1;33m.\u001b[0m\u001b[0munique\u001b[0m\u001b[1;33m(\u001b[0m\u001b[1;33m)\u001b[0m\u001b[1;33m:\u001b[0m\u001b[1;33m\u001b[0m\u001b[1;33m\u001b[0m\u001b[0m\n",
      "\u001b[1;32m~\\miniconda3\\envs\\pdgf-first\\lib\\site-packages\\pandas\\util\\_decorators.py\u001b[0m in \u001b[0;36mwrapper\u001b[1;34m(*args, **kwargs)\u001b[0m\n\u001b[0;32m    309\u001b[0m                     \u001b[0mstacklevel\u001b[0m\u001b[1;33m=\u001b[0m\u001b[0mstacklevel\u001b[0m\u001b[1;33m,\u001b[0m\u001b[1;33m\u001b[0m\u001b[1;33m\u001b[0m\u001b[0m\n\u001b[0;32m    310\u001b[0m                 )\n\u001b[1;32m--> 311\u001b[1;33m             \u001b[1;32mreturn\u001b[0m \u001b[0mfunc\u001b[0m\u001b[1;33m(\u001b[0m\u001b[1;33m*\u001b[0m\u001b[0margs\u001b[0m\u001b[1;33m,\u001b[0m \u001b[1;33m**\u001b[0m\u001b[0mkwargs\u001b[0m\u001b[1;33m)\u001b[0m\u001b[1;33m\u001b[0m\u001b[1;33m\u001b[0m\u001b[0m\n\u001b[0m\u001b[0;32m    312\u001b[0m \u001b[1;33m\u001b[0m\u001b[0m\n\u001b[0;32m    313\u001b[0m         \u001b[1;32mreturn\u001b[0m \u001b[0mwrapper\u001b[0m\u001b[1;33m\u001b[0m\u001b[1;33m\u001b[0m\u001b[0m\n",
      "\u001b[1;32m~\\miniconda3\\envs\\pdgf-first\\lib\\site-packages\\pandas\\io\\parsers\\readers.py\u001b[0m in \u001b[0;36mread_csv\u001b[1;34m(filepath_or_buffer, sep, delimiter, header, names, index_col, usecols, squeeze, prefix, mangle_dupe_cols, dtype, engine, converters, true_values, false_values, skipinitialspace, skiprows, skipfooter, nrows, na_values, keep_default_na, na_filter, verbose, skip_blank_lines, parse_dates, infer_datetime_format, keep_date_col, date_parser, dayfirst, cache_dates, iterator, chunksize, compression, thousands, decimal, lineterminator, quotechar, quoting, doublequote, escapechar, comment, encoding, encoding_errors, dialect, error_bad_lines, warn_bad_lines, on_bad_lines, delim_whitespace, low_memory, memory_map, float_precision, storage_options)\u001b[0m\n\u001b[0;32m    584\u001b[0m     \u001b[0mkwds\u001b[0m\u001b[1;33m.\u001b[0m\u001b[0mupdate\u001b[0m\u001b[1;33m(\u001b[0m\u001b[0mkwds_defaults\u001b[0m\u001b[1;33m)\u001b[0m\u001b[1;33m\u001b[0m\u001b[1;33m\u001b[0m\u001b[0m\n\u001b[0;32m    585\u001b[0m \u001b[1;33m\u001b[0m\u001b[0m\n\u001b[1;32m--> 586\u001b[1;33m     \u001b[1;32mreturn\u001b[0m \u001b[0m_read\u001b[0m\u001b[1;33m(\u001b[0m\u001b[0mfilepath_or_buffer\u001b[0m\u001b[1;33m,\u001b[0m \u001b[0mkwds\u001b[0m\u001b[1;33m)\u001b[0m\u001b[1;33m\u001b[0m\u001b[1;33m\u001b[0m\u001b[0m\n\u001b[0m\u001b[0;32m    587\u001b[0m \u001b[1;33m\u001b[0m\u001b[0m\n\u001b[0;32m    588\u001b[0m \u001b[1;33m\u001b[0m\u001b[0m\n",
      "\u001b[1;32m~\\miniconda3\\envs\\pdgf-first\\lib\\site-packages\\pandas\\io\\parsers\\readers.py\u001b[0m in \u001b[0;36m_read\u001b[1;34m(filepath_or_buffer, kwds)\u001b[0m\n\u001b[0;32m    480\u001b[0m \u001b[1;33m\u001b[0m\u001b[0m\n\u001b[0;32m    481\u001b[0m     \u001b[1;31m# Create the parser.\u001b[0m\u001b[1;33m\u001b[0m\u001b[1;33m\u001b[0m\u001b[1;33m\u001b[0m\u001b[0m\n\u001b[1;32m--> 482\u001b[1;33m     \u001b[0mparser\u001b[0m \u001b[1;33m=\u001b[0m \u001b[0mTextFileReader\u001b[0m\u001b[1;33m(\u001b[0m\u001b[0mfilepath_or_buffer\u001b[0m\u001b[1;33m,\u001b[0m \u001b[1;33m**\u001b[0m\u001b[0mkwds\u001b[0m\u001b[1;33m)\u001b[0m\u001b[1;33m\u001b[0m\u001b[1;33m\u001b[0m\u001b[0m\n\u001b[0m\u001b[0;32m    483\u001b[0m \u001b[1;33m\u001b[0m\u001b[0m\n\u001b[0;32m    484\u001b[0m     \u001b[1;32mif\u001b[0m \u001b[0mchunksize\u001b[0m \u001b[1;32mor\u001b[0m \u001b[0miterator\u001b[0m\u001b[1;33m:\u001b[0m\u001b[1;33m\u001b[0m\u001b[1;33m\u001b[0m\u001b[0m\n",
      "\u001b[1;32m~\\miniconda3\\envs\\pdgf-first\\lib\\site-packages\\pandas\\io\\parsers\\readers.py\u001b[0m in \u001b[0;36m__init__\u001b[1;34m(self, f, engine, **kwds)\u001b[0m\n\u001b[0;32m    809\u001b[0m             \u001b[0mself\u001b[0m\u001b[1;33m.\u001b[0m\u001b[0moptions\u001b[0m\u001b[1;33m[\u001b[0m\u001b[1;34m\"has_index_names\"\u001b[0m\u001b[1;33m]\u001b[0m \u001b[1;33m=\u001b[0m \u001b[0mkwds\u001b[0m\u001b[1;33m[\u001b[0m\u001b[1;34m\"has_index_names\"\u001b[0m\u001b[1;33m]\u001b[0m\u001b[1;33m\u001b[0m\u001b[1;33m\u001b[0m\u001b[0m\n\u001b[0;32m    810\u001b[0m \u001b[1;33m\u001b[0m\u001b[0m\n\u001b[1;32m--> 811\u001b[1;33m         \u001b[0mself\u001b[0m\u001b[1;33m.\u001b[0m\u001b[0m_engine\u001b[0m \u001b[1;33m=\u001b[0m \u001b[0mself\u001b[0m\u001b[1;33m.\u001b[0m\u001b[0m_make_engine\u001b[0m\u001b[1;33m(\u001b[0m\u001b[0mself\u001b[0m\u001b[1;33m.\u001b[0m\u001b[0mengine\u001b[0m\u001b[1;33m)\u001b[0m\u001b[1;33m\u001b[0m\u001b[1;33m\u001b[0m\u001b[0m\n\u001b[0m\u001b[0;32m    812\u001b[0m \u001b[1;33m\u001b[0m\u001b[0m\n\u001b[0;32m    813\u001b[0m     \u001b[1;32mdef\u001b[0m \u001b[0mclose\u001b[0m\u001b[1;33m(\u001b[0m\u001b[0mself\u001b[0m\u001b[1;33m)\u001b[0m\u001b[1;33m:\u001b[0m\u001b[1;33m\u001b[0m\u001b[1;33m\u001b[0m\u001b[0m\n",
      "\u001b[1;32m~\\miniconda3\\envs\\pdgf-first\\lib\\site-packages\\pandas\\io\\parsers\\readers.py\u001b[0m in \u001b[0;36m_make_engine\u001b[1;34m(self, engine)\u001b[0m\n\u001b[0;32m   1038\u001b[0m             )\n\u001b[0;32m   1039\u001b[0m         \u001b[1;31m# error: Too many arguments for \"ParserBase\"\u001b[0m\u001b[1;33m\u001b[0m\u001b[1;33m\u001b[0m\u001b[1;33m\u001b[0m\u001b[0m\n\u001b[1;32m-> 1040\u001b[1;33m         \u001b[1;32mreturn\u001b[0m \u001b[0mmapping\u001b[0m\u001b[1;33m[\u001b[0m\u001b[0mengine\u001b[0m\u001b[1;33m]\u001b[0m\u001b[1;33m(\u001b[0m\u001b[0mself\u001b[0m\u001b[1;33m.\u001b[0m\u001b[0mf\u001b[0m\u001b[1;33m,\u001b[0m \u001b[1;33m**\u001b[0m\u001b[0mself\u001b[0m\u001b[1;33m.\u001b[0m\u001b[0moptions\u001b[0m\u001b[1;33m)\u001b[0m  \u001b[1;31m# type: ignore[call-arg]\u001b[0m\u001b[1;33m\u001b[0m\u001b[1;33m\u001b[0m\u001b[0m\n\u001b[0m\u001b[0;32m   1041\u001b[0m \u001b[1;33m\u001b[0m\u001b[0m\n\u001b[0;32m   1042\u001b[0m     \u001b[1;32mdef\u001b[0m \u001b[0m_failover_to_python\u001b[0m\u001b[1;33m(\u001b[0m\u001b[0mself\u001b[0m\u001b[1;33m)\u001b[0m\u001b[1;33m:\u001b[0m\u001b[1;33m\u001b[0m\u001b[1;33m\u001b[0m\u001b[0m\n",
      "\u001b[1;32m~\\miniconda3\\envs\\pdgf-first\\lib\\site-packages\\pandas\\io\\parsers\\c_parser_wrapper.py\u001b[0m in \u001b[0;36m__init__\u001b[1;34m(self, src, **kwds)\u001b[0m\n\u001b[0;32m     49\u001b[0m \u001b[1;33m\u001b[0m\u001b[0m\n\u001b[0;32m     50\u001b[0m         \u001b[1;31m# open handles\u001b[0m\u001b[1;33m\u001b[0m\u001b[1;33m\u001b[0m\u001b[1;33m\u001b[0m\u001b[0m\n\u001b[1;32m---> 51\u001b[1;33m         \u001b[0mself\u001b[0m\u001b[1;33m.\u001b[0m\u001b[0m_open_handles\u001b[0m\u001b[1;33m(\u001b[0m\u001b[0msrc\u001b[0m\u001b[1;33m,\u001b[0m \u001b[0mkwds\u001b[0m\u001b[1;33m)\u001b[0m\u001b[1;33m\u001b[0m\u001b[1;33m\u001b[0m\u001b[0m\n\u001b[0m\u001b[0;32m     52\u001b[0m         \u001b[1;32massert\u001b[0m \u001b[0mself\u001b[0m\u001b[1;33m.\u001b[0m\u001b[0mhandles\u001b[0m \u001b[1;32mis\u001b[0m \u001b[1;32mnot\u001b[0m \u001b[1;32mNone\u001b[0m\u001b[1;33m\u001b[0m\u001b[1;33m\u001b[0m\u001b[0m\n\u001b[0;32m     53\u001b[0m \u001b[1;33m\u001b[0m\u001b[0m\n",
      "\u001b[1;32m~\\miniconda3\\envs\\pdgf-first\\lib\\site-packages\\pandas\\io\\parsers\\base_parser.py\u001b[0m in \u001b[0;36m_open_handles\u001b[1;34m(self, src, kwds)\u001b[0m\n\u001b[0;32m    227\u001b[0m             \u001b[0mmemory_map\u001b[0m\u001b[1;33m=\u001b[0m\u001b[0mkwds\u001b[0m\u001b[1;33m.\u001b[0m\u001b[0mget\u001b[0m\u001b[1;33m(\u001b[0m\u001b[1;34m\"memory_map\"\u001b[0m\u001b[1;33m,\u001b[0m \u001b[1;32mFalse\u001b[0m\u001b[1;33m)\u001b[0m\u001b[1;33m,\u001b[0m\u001b[1;33m\u001b[0m\u001b[1;33m\u001b[0m\u001b[0m\n\u001b[0;32m    228\u001b[0m             \u001b[0mstorage_options\u001b[0m\u001b[1;33m=\u001b[0m\u001b[0mkwds\u001b[0m\u001b[1;33m.\u001b[0m\u001b[0mget\u001b[0m\u001b[1;33m(\u001b[0m\u001b[1;34m\"storage_options\"\u001b[0m\u001b[1;33m,\u001b[0m \u001b[1;32mNone\u001b[0m\u001b[1;33m)\u001b[0m\u001b[1;33m,\u001b[0m\u001b[1;33m\u001b[0m\u001b[1;33m\u001b[0m\u001b[0m\n\u001b[1;32m--> 229\u001b[1;33m             \u001b[0merrors\u001b[0m\u001b[1;33m=\u001b[0m\u001b[0mkwds\u001b[0m\u001b[1;33m.\u001b[0m\u001b[0mget\u001b[0m\u001b[1;33m(\u001b[0m\u001b[1;34m\"encoding_errors\"\u001b[0m\u001b[1;33m,\u001b[0m \u001b[1;34m\"strict\"\u001b[0m\u001b[1;33m)\u001b[0m\u001b[1;33m,\u001b[0m\u001b[1;33m\u001b[0m\u001b[1;33m\u001b[0m\u001b[0m\n\u001b[0m\u001b[0;32m    230\u001b[0m         )\n\u001b[0;32m    231\u001b[0m \u001b[1;33m\u001b[0m\u001b[0m\n",
      "\u001b[1;32m~\\miniconda3\\envs\\pdgf-first\\lib\\site-packages\\pandas\\io\\common.py\u001b[0m in \u001b[0;36mget_handle\u001b[1;34m(path_or_buf, mode, encoding, compression, memory_map, is_text, errors, storage_options)\u001b[0m\n\u001b[0;32m    705\u001b[0m                 \u001b[0mencoding\u001b[0m\u001b[1;33m=\u001b[0m\u001b[0mioargs\u001b[0m\u001b[1;33m.\u001b[0m\u001b[0mencoding\u001b[0m\u001b[1;33m,\u001b[0m\u001b[1;33m\u001b[0m\u001b[1;33m\u001b[0m\u001b[0m\n\u001b[0;32m    706\u001b[0m                 \u001b[0merrors\u001b[0m\u001b[1;33m=\u001b[0m\u001b[0merrors\u001b[0m\u001b[1;33m,\u001b[0m\u001b[1;33m\u001b[0m\u001b[1;33m\u001b[0m\u001b[0m\n\u001b[1;32m--> 707\u001b[1;33m                 \u001b[0mnewline\u001b[0m\u001b[1;33m=\u001b[0m\u001b[1;34m\"\"\u001b[0m\u001b[1;33m,\u001b[0m\u001b[1;33m\u001b[0m\u001b[1;33m\u001b[0m\u001b[0m\n\u001b[0m\u001b[0;32m    708\u001b[0m             )\n\u001b[0;32m    709\u001b[0m         \u001b[1;32melse\u001b[0m\u001b[1;33m:\u001b[0m\u001b[1;33m\u001b[0m\u001b[1;33m\u001b[0m\u001b[0m\n",
      "\u001b[1;31mFileNotFoundError\u001b[0m: [Errno 2] No such file or directory: 'processed-data\\\\1chamber-96hours.csv'"
     ]
    }
   ],
   "source": [
    "# Read the processed data into a DF\n",
    "single_chamber_df = pd.read_csv(DATA_PATH / '1chamber-96hours.csv')\n",
    "\n",
    "# Perform a one-way ANOVA between all conditions\n",
    "for day in single_chamber_df['day'].unique():\n",
    "    day_data = single_chamber_df[single_chamber_df['day'] == day]\n",
    "\n",
    "    fvalue, pvalue = stats.f_oneway(day_data[day_data['condition'] == 'Control']['fixed_distance'], \n",
    "                                    day_data[day_data['condition'] == 'Monolayer chamber']['fixed_distance'],\n",
    "                                    day_data[day_data['condition'] == 'Opposite chamber']['fixed_distance'])\n",
    "\n",
    "    print(f'p-value for day {day}: {pvalue} ({return_asterisks(pvalue)})')"
   ]
  },
  {
   "cell_type": "markdown",
   "id": "a93dfdf7",
   "metadata": {},
   "source": [
    "### Post-hoc tests"
   ]
  },
  {
   "cell_type": "code",
   "execution_count": 10,
   "id": "9bb58c34",
   "metadata": {},
   "outputs": [
    {
     "name": "stdout",
     "output_type": "stream",
     "text": [
      "\n",
      "Results for day 1\n",
      "           Multiple Comparison of Means - Tukey HSD, FWER=0.00           \n",
      "=========================================================================\n",
      "      group1            group2      meandiff p-adj  lower   upper  reject\n",
      "-------------------------------------------------------------------------\n",
      "          Control Monolayer chamber  34.0436 0.001 10.3955 57.6917   True\n",
      "          Control  Opposite chamber  66.6714 0.001 43.7371 89.6056   True\n",
      "Monolayer chamber  Opposite chamber  32.6278 0.001 12.5389 52.7166   True\n",
      "-------------------------------------------------------------------------\n",
      "\n",
      "Results for day 2\n",
      "           Multiple Comparison of Means - Tukey HSD, FWER=0.00            \n",
      "==========================================================================\n",
      "      group1            group2      meandiff p-adj  lower   upper   reject\n",
      "--------------------------------------------------------------------------\n",
      "          Control Monolayer chamber  58.0939 0.001 27.3304  88.8575   True\n",
      "          Control  Opposite chamber 103.4103 0.001 73.7044 133.1161   True\n",
      "Monolayer chamber  Opposite chamber  45.3164 0.001 18.9752  71.6575   True\n",
      "--------------------------------------------------------------------------\n",
      "\n",
      "Results for day 3\n",
      "            Multiple Comparison of Means - Tukey HSD, FWER=0.00            \n",
      "===========================================================================\n",
      "      group1            group2      meandiff p-adj  lower    upper   reject\n",
      "---------------------------------------------------------------------------\n",
      "          Control Monolayer chamber  77.9104 0.001  40.8447 114.9761   True\n",
      "          Control  Opposite chamber 144.8167 0.001 109.9736 179.6598   True\n",
      "Monolayer chamber  Opposite chamber  66.9063 0.001  34.2075   99.605   True\n",
      "---------------------------------------------------------------------------\n",
      "\n",
      "Results for day 4\n",
      "            Multiple Comparison of Means - Tukey HSD, FWER=0.00            \n",
      "===========================================================================\n",
      "      group1            group2      meandiff p-adj  lower    upper   reject\n",
      "---------------------------------------------------------------------------\n",
      "          Control Monolayer chamber  91.5366 0.001  50.3402 132.7329   True\n",
      "          Control  Opposite chamber 139.0349 0.001 101.6848 176.3851   True\n",
      "Monolayer chamber  Opposite chamber  47.4984 0.001  14.0472  80.9495   True\n",
      "---------------------------------------------------------------------------\n"
     ]
    }
   ],
   "source": [
    "# Set the rejection value to identify the groups with differences\n",
    "rejection_pvalue = 0.001\n",
    "\n",
    "for day in single_chamber_df['day'].unique():\n",
    "    day_data = single_chamber_df[single_chamber_df['day'] == day]\n",
    "    tukey = pairwise_tukeyhsd(day_data['fixed_distance'], day_data['condition'], alpha=rejection_pvalue)\n",
    "    \n",
    "    print(f'\\nResults for day {day}')\n",
    "    print(tukey)"
   ]
  },
  {
   "cell_type": "markdown",
   "id": "212d2726",
   "metadata": {},
   "source": [
    "## 2.5 mg/mL matrix - 216 hours"
   ]
  },
  {
   "cell_type": "code",
   "execution_count": 5,
   "id": "d6ce15e2",
   "metadata": {},
   "outputs": [
    {
     "name": "stdout",
     "output_type": "stream",
     "text": [
      "p-value for day 1: 6.94244762434078e-10 (***)\n",
      "p-value for day 2: 1.5871213114475845e-22 (***)\n",
      "p-value for day 3: 4.391514061384971e-25 (***)\n",
      "p-value for day 4: 1.0421255815115056e-20 (***)\n",
      "p-value for day 7: 3.6514562993049014e-41 (***)\n",
      "p-value for day 8: 9.182031264343604e-39 (***)\n",
      "p-value for day 9: 5.9527983136208366e-40 (***)\n"
     ]
    }
   ],
   "source": [
    "# Read the processed data into a DF\n",
    "three_chambers_df = pd.read_csv(DATA_PATH / '3ch-216hours.csv')\n",
    "\n",
    "# Perform a one-way ANOVA between all conditions\n",
    "for day in three_chambers_df['day'].unique():\n",
    "    day_data = three_chambers_df[three_chambers_df['day'] == day]\n",
    "\n",
    "    fvalue, pvalue = stats.f_oneway(day_data[day_data['condition'] == 'Control']['fixed_distance'], \n",
    "                                    day_data[day_data['condition'] == 'Opposite chamber']['fixed_distance'])\n",
    "\n",
    "    print(f'p-value for day {day}: {pvalue} ({return_asterisks(pvalue)})')"
   ]
  },
  {
   "cell_type": "markdown",
   "id": "b2cd1afa",
   "metadata": {},
   "source": [
    "## 4 mg/mL matrix - 96 hours"
   ]
  },
  {
   "cell_type": "code",
   "execution_count": 6,
   "id": "a90efea9",
   "metadata": {},
   "outputs": [
    {
     "name": "stdout",
     "output_type": "stream",
     "text": [
      "p-value for day 1: 1.9279825716816e-15 (***)\n",
      "p-value for day 2: 1.956489563333031e-13 (***)\n",
      "p-value for day 3: 1.0423642322416357e-15 (***)\n",
      "p-value for day 4: 8.882902647100095e-23 (***)\n"
     ]
    }
   ],
   "source": [
    "# Read the processed data into a DF\n",
    "high_density_df = pd.read_csv(DATA_PATH / '4mgml-96hours.csv')\n",
    "\n",
    "# Perform a one-way ANOVA between all conditions\n",
    "for day in high_density_df['day'].unique():\n",
    "    day_data = high_density_df[high_density_df['day'] == day]\n",
    "\n",
    "    fvalue, pvalue = stats.f_oneway(day_data[day_data['condition'] == 'Control']['fixed_distance'], \n",
    "                                    day_data[day_data['condition'] == 'Opposite channel']['fixed_distance'])\n",
    "\n",
    "    print(f'p-value for day {day}: {pvalue} ({return_asterisks(pvalue)})')"
   ]
  }
 ],
 "metadata": {
  "kernelspec": {
   "display_name": "Python 3 (ipykernel)",
   "language": "python",
   "name": "python3"
  },
  "language_info": {
   "codemirror_mode": {
    "name": "ipython",
    "version": 3
   },
   "file_extension": ".py",
   "mimetype": "text/x-python",
   "name": "python",
   "nbconvert_exporter": "python",
   "pygments_lexer": "ipython3",
   "version": "3.7.11"
  }
 },
 "nbformat": 4,
 "nbformat_minor": 5
}
