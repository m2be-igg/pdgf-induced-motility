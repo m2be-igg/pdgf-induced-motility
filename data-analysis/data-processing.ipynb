{
 "cells": [
  {
   "cell_type": "markdown",
   "id": "a4192aa7",
   "metadata": {},
   "source": [
    "# Experimental data processing\n",
    "\n",
    "🎯 **Goal**: Clean the experimental data for the distance traveled by cells.\n",
    "\n",
    "---\n",
    "\n",
    "## Context\n",
    "The experimental data includes the distances traveled by cells over time. This distance is computed in regards to the cell monolayer at the top of the chip. Since the location of the monolayer is not always correctly detected through the image processing algorithm, the experimental results may appear inconsistent over distinct conditions. Thus, we will estimate the correct position of the initial fibroblast monolayer based  on the minimal traveled distance values and recompute the traveled distances in regards to this new baseline value."
   ]
  },
  {
   "cell_type": "code",
   "execution_count": 1,
   "id": "94216c1b",
   "metadata": {},
   "outputs": [],
   "source": [
    "from pathlib import Path\n",
    "\n",
    "import pandas as pd\n",
    "import numpy as np\n",
    "import matplotlib.pyplot as plt\n",
    "import seaborn as sns\n",
    "from scipy import io as sio\n",
    "\n",
    "DATA_PATH = Path('raw-data/')\n",
    "SAVE_PATH = Path('processed-data/')\n",
    "FILE_STEM = 'multichip_data_'"
   ]
  },
  {
   "cell_type": "markdown",
   "id": "05ff3189",
   "metadata": {},
   "source": [
    "## 2.5 mg/mL matrix - 96 hours\n",
    "### Read the experimental data"
   ]
  },
  {
   "cell_type": "code",
   "execution_count": 2,
   "id": "36ebd42b",
   "metadata": {},
   "outputs": [
    {
     "data": {
      "text/html": [
       "<div>\n",
       "<style scoped>\n",
       "    .dataframe tbody tr th:only-of-type {\n",
       "        vertical-align: middle;\n",
       "    }\n",
       "\n",
       "    .dataframe tbody tr th {\n",
       "        vertical-align: top;\n",
       "    }\n",
       "\n",
       "    .dataframe thead th {\n",
       "        text-align: right;\n",
       "    }\n",
       "</style>\n",
       "<table border=\"1\" class=\"dataframe\">\n",
       "  <thead>\n",
       "    <tr style=\"text-align: right;\">\n",
       "      <th></th>\n",
       "      <th>day</th>\n",
       "      <th>distance</th>\n",
       "      <th>condition</th>\n",
       "    </tr>\n",
       "  </thead>\n",
       "  <tbody>\n",
       "    <tr>\n",
       "      <th>0</th>\n",
       "      <td>1</td>\n",
       "      <td>64.0</td>\n",
       "      <td>control</td>\n",
       "    </tr>\n",
       "    <tr>\n",
       "      <th>1</th>\n",
       "      <td>1</td>\n",
       "      <td>75.2</td>\n",
       "      <td>control</td>\n",
       "    </tr>\n",
       "    <tr>\n",
       "      <th>2</th>\n",
       "      <td>1</td>\n",
       "      <td>67.2</td>\n",
       "      <td>control</td>\n",
       "    </tr>\n",
       "    <tr>\n",
       "      <th>3</th>\n",
       "      <td>1</td>\n",
       "      <td>60.8</td>\n",
       "      <td>control</td>\n",
       "    </tr>\n",
       "    <tr>\n",
       "      <th>4</th>\n",
       "      <td>1</td>\n",
       "      <td>57.6</td>\n",
       "      <td>control</td>\n",
       "    </tr>\n",
       "    <tr>\n",
       "      <th>...</th>\n",
       "      <td>...</td>\n",
       "      <td>...</td>\n",
       "      <td>...</td>\n",
       "    </tr>\n",
       "    <tr>\n",
       "      <th>2855</th>\n",
       "      <td>4</td>\n",
       "      <td>97.6</td>\n",
       "      <td>opposite_channel</td>\n",
       "    </tr>\n",
       "    <tr>\n",
       "      <th>2856</th>\n",
       "      <td>4</td>\n",
       "      <td>110.4</td>\n",
       "      <td>opposite_channel</td>\n",
       "    </tr>\n",
       "    <tr>\n",
       "      <th>2857</th>\n",
       "      <td>4</td>\n",
       "      <td>153.6</td>\n",
       "      <td>opposite_channel</td>\n",
       "    </tr>\n",
       "    <tr>\n",
       "      <th>2858</th>\n",
       "      <td>4</td>\n",
       "      <td>422.4</td>\n",
       "      <td>opposite_channel</td>\n",
       "    </tr>\n",
       "    <tr>\n",
       "      <th>2859</th>\n",
       "      <td>4</td>\n",
       "      <td>438.4</td>\n",
       "      <td>opposite_channel</td>\n",
       "    </tr>\n",
       "  </tbody>\n",
       "</table>\n",
       "<p>4206 rows × 3 columns</p>\n",
       "</div>"
      ],
      "text/plain": [
       "      day  distance         condition\n",
       "0       1      64.0           control\n",
       "1       1      75.2           control\n",
       "2       1      67.2           control\n",
       "3       1      60.8           control\n",
       "4       1      57.6           control\n",
       "...   ...       ...               ...\n",
       "2855    4      97.6  opposite_channel\n",
       "2856    4     110.4  opposite_channel\n",
       "2857    4     153.6  opposite_channel\n",
       "2858    4     422.4  opposite_channel\n",
       "2859    4     438.4  opposite_channel\n",
       "\n",
       "[4206 rows x 3 columns]"
      ]
     },
     "execution_count": 2,
     "metadata": {},
     "output_type": "execute_result"
    }
   ],
   "source": [
    "def read_experimental_data(experimental_conditions):\n",
    "    \"\"\"Loads the experimental data stored in .mat files for a given set of conditions.\"\"\"\n",
    "    \n",
    "    # Store data from all conditions in a dict\n",
    "    data = {}\n",
    "\n",
    "    for condition in experimental_conditions:\n",
    "        # Load file\n",
    "        mat_path = DATA_PATH / f'{FILE_STEM}{condition}.mat'\n",
    "        mat_file = sio.loadmat(mat_path)\n",
    "        distance_to_monolayer = mat_file['glob_dist2mono']\n",
    "\n",
    "        # Format the data from four columns to two columns\n",
    "        # One column will contain the distances and the other will contain the corresponding day\n",
    "        distance_to_monolayer = pd.melt(pd.DataFrame(distance_to_monolayer))\n",
    "        distance_to_monolayer.rename(columns={'variable': 'day', 'value': 'distance'},\n",
    "                                     inplace=True)\n",
    "        # Drop the NaN rows\n",
    "        distance_to_monolayer = distance_to_monolayer.dropna()\n",
    "        # Convert day column from 0 index notation\n",
    "        distance_to_monolayer['day'] = distance_to_monolayer['day'] + 1\n",
    "        distance_to_monolayer['distance'] = distance_to_monolayer['distance']\n",
    "        distance_to_monolayer['condition'] = condition\n",
    "\n",
    "        data[condition] = distance_to_monolayer\n",
    "        \n",
    "    data_df = pd.concat(data.values())\n",
    "\n",
    "    return data_df\n",
    "\n",
    "\n",
    "chemotaxis_conditions = ['control', 'cell_channel', 'opposite_channel']\n",
    "conditions_labels = ['Control', 'Monolayer chamber', 'Opposite chamber']\n",
    "\n",
    "chemotaxis_df = read_experimental_data(chemotaxis_conditions)\n",
    "chemotaxis_df"
   ]
  },
  {
   "cell_type": "code",
   "execution_count": 3,
   "id": "f3c10636",
   "metadata": {
    "scrolled": false
   },
   "outputs": [
    {
     "data": {
      "image/png": "[encoded data removed]",
      "text/plain": [
       "<Figure size 756x360 with 3 Axes>"
      ]
     },
     "metadata": {
      "needs_background": "light"
     },
     "output_type": "display_data"
    }
   ],
   "source": [
    "fig = sns.catplot(data=chemotaxis_df, x='day', y='distance', col='condition', hue='condition',\n",
    "                  kind='box', width=0.5, aspect=0.7, dodge=False)\n",
    "\n",
    "# Figure style\n",
    "for ax, condition in zip(fig.axes.flatten(), ['Control', 'Cell channel', 'Opposite channel']):\n",
    "    ax.set_title(f'Condition: {condition}', y=1.02)\n",
    "    ax.set_axisbelow(True)\n",
    "    ax.grid(axis='y', c='lightgrey', linestyle='dashed')\n",
    "    \n",
    "fig.set_xlabels('Time [days]', labelpad=10, fontsize=13)\n",
    "fig.set_ylabels('Traveled distance [$\\mu$m]', labelpad=10, fontsize=13)\n",
    "plt.tight_layout()"
   ]
  },
  {
   "cell_type": "markdown",
   "id": "45edd1ee",
   "metadata": {},
   "source": [
    "It appears that minimal traveled distance values are always around 50 microns. We can confirm this by looking into the average minimum value at each day."
   ]
  },
  {
   "cell_type": "code",
   "execution_count": 4,
   "id": "5292684e",
   "metadata": {},
   "outputs": [
    {
     "name": "stdout",
     "output_type": "stream",
     "text": [
      "Condition: control\n",
      "Mean minimum value: 53.6\n",
      "Minimum value: 44.8\n",
      "\n",
      "Condition: cell_channel\n",
      "Mean minimum value: 61.2\n",
      "Minimum value: 59.2\n",
      "\n",
      "Condition: opposite_channel\n",
      "Mean minimum value: 54.8\n",
      "Minimum value: 52.8\n",
      "\n"
     ]
    }
   ],
   "source": [
    "# Select each condition and print info on minimum values\n",
    "for condition in chemotaxis_conditions:\n",
    "    condition_df = chemotaxis_df[chemotaxis_df['condition'] == condition]\n",
    "    minimum_values = condition_df.groupby('day')['distance'].describe()['min']\n",
    "    print(f'Condition: {condition}')\n",
    "    print(f'Mean minimum value: {round(minimum_values.mean(), 2)}')\n",
    "    print(f'Minimum value: {round(minimum_values.min(), 2)}')\n",
    "    print()"
   ]
  },
  {
   "cell_type": "markdown",
   "id": "a065efc6",
   "metadata": {},
   "source": [
    "### Fix the baseline\n",
    "\n",
    "We will use the average minimum traveled distance over the 4 days to locate the \"real\" location of the monolayer, assuming that some of the cells are still attached to this structure. Thus, we consider that the minimal distance values correspond to these cells, and, consequently, to the location of the monolayer. We will also assume that any distance value lower than 0 will be set to 0."
   ]
  },
  {
   "cell_type": "code",
   "execution_count": 5,
   "id": "930106e9",
   "metadata": {},
   "outputs": [
    {
     "data": {
      "text/html": [
       "<div>\n",
       "<style scoped>\n",
       "    .dataframe tbody tr th:only-of-type {\n",
       "        vertical-align: middle;\n",
       "    }\n",
       "\n",
       "    .dataframe tbody tr th {\n",
       "        vertical-align: top;\n",
       "    }\n",
       "\n",
       "    .dataframe thead th {\n",
       "        text-align: right;\n",
       "    }\n",
       "</style>\n",
       "<table border=\"1\" class=\"dataframe\">\n",
       "  <thead>\n",
       "    <tr style=\"text-align: right;\">\n",
       "      <th></th>\n",
       "      <th>day</th>\n",
       "      <th>distance</th>\n",
       "      <th>condition</th>\n",
       "      <th>fixed_distance</th>\n",
       "    </tr>\n",
       "  </thead>\n",
       "  <tbody>\n",
       "    <tr>\n",
       "      <th>0</th>\n",
       "      <td>1</td>\n",
       "      <td>64.0</td>\n",
       "      <td>Control</td>\n",
       "      <td>10.0</td>\n",
       "    </tr>\n",
       "    <tr>\n",
       "      <th>1</th>\n",
       "      <td>1</td>\n",
       "      <td>75.2</td>\n",
       "      <td>Control</td>\n",
       "      <td>21.2</td>\n",
       "    </tr>\n",
       "    <tr>\n",
       "      <th>2</th>\n",
       "      <td>1</td>\n",
       "      <td>67.2</td>\n",
       "      <td>Control</td>\n",
       "      <td>13.2</td>\n",
       "    </tr>\n",
       "    <tr>\n",
       "      <th>3</th>\n",
       "      <td>1</td>\n",
       "      <td>60.8</td>\n",
       "      <td>Control</td>\n",
       "      <td>6.8</td>\n",
       "    </tr>\n",
       "    <tr>\n",
       "      <th>4</th>\n",
       "      <td>1</td>\n",
       "      <td>57.6</td>\n",
       "      <td>Control</td>\n",
       "      <td>3.6</td>\n",
       "    </tr>\n",
       "    <tr>\n",
       "      <th>...</th>\n",
       "      <td>...</td>\n",
       "      <td>...</td>\n",
       "      <td>...</td>\n",
       "      <td>...</td>\n",
       "    </tr>\n",
       "    <tr>\n",
       "      <th>2855</th>\n",
       "      <td>4</td>\n",
       "      <td>97.6</td>\n",
       "      <td>Opposite chamber</td>\n",
       "      <td>43.6</td>\n",
       "    </tr>\n",
       "    <tr>\n",
       "      <th>2856</th>\n",
       "      <td>4</td>\n",
       "      <td>110.4</td>\n",
       "      <td>Opposite chamber</td>\n",
       "      <td>56.4</td>\n",
       "    </tr>\n",
       "    <tr>\n",
       "      <th>2857</th>\n",
       "      <td>4</td>\n",
       "      <td>153.6</td>\n",
       "      <td>Opposite chamber</td>\n",
       "      <td>99.6</td>\n",
       "    </tr>\n",
       "    <tr>\n",
       "      <th>2858</th>\n",
       "      <td>4</td>\n",
       "      <td>422.4</td>\n",
       "      <td>Opposite chamber</td>\n",
       "      <td>368.4</td>\n",
       "    </tr>\n",
       "    <tr>\n",
       "      <th>2859</th>\n",
       "      <td>4</td>\n",
       "      <td>438.4</td>\n",
       "      <td>Opposite chamber</td>\n",
       "      <td>384.4</td>\n",
       "    </tr>\n",
       "  </tbody>\n",
       "</table>\n",
       "<p>4206 rows × 4 columns</p>\n",
       "</div>"
      ],
      "text/plain": [
       "      day  distance         condition  fixed_distance\n",
       "0       1      64.0           Control            10.0\n",
       "1       1      75.2           Control            21.2\n",
       "2       1      67.2           Control            13.2\n",
       "3       1      60.8           Control             6.8\n",
       "4       1      57.6           Control             3.6\n",
       "...   ...       ...               ...             ...\n",
       "2855    4      97.6  Opposite chamber            43.6\n",
       "2856    4     110.4  Opposite chamber            56.4\n",
       "2857    4     153.6  Opposite chamber            99.6\n",
       "2858    4     422.4  Opposite chamber           368.4\n",
       "2859    4     438.4  Opposite chamber           384.4\n",
       "\n",
       "[4206 rows x 4 columns]"
      ]
     },
     "execution_count": 5,
     "metadata": {},
     "output_type": "execute_result"
    }
   ],
   "source": [
    "def fix_distance_baseline(data_df):\n",
    "    \"\"\"Computes new distance values based on the predicted monolayer location\"\"\"\n",
    "    \n",
    "    data_df['fixed_distance'] = np.NaN\n",
    "\n",
    "    # Select each condition and print info on minimum values\n",
    "    for condition in data_df.condition.unique():\n",
    "        condition_indexes = list(data_df[data_df['condition'] == condition].index)\n",
    "        condition_df = data_df.loc[condition_indexes]\n",
    "        minimum_values = condition_df.groupby('day')['distance'].describe()['min']\n",
    "        baseline_value = minimum_values.mean()\n",
    "        data_df.loc[condition_indexes, 'fixed_distance'] = \\\n",
    "            data_df.loc[condition_indexes, 'distance'] - baseline_value\n",
    "\n",
    "    data_df.loc[data_df['fixed_distance'] < 0, 'fixed_distance'] = 0\n",
    "    \n",
    "    return data_df\n",
    "\n",
    "chemotaxis_df = fix_distance_baseline(chemotaxis_df)\n",
    "\n",
    "# Rename the conditions to keep it consistent\n",
    "chemotaxis_df['condition'] = chemotaxis_df['condition'].map({condition: label \n",
    "                                                            for condition, label\n",
    "                                                            in zip(chemotaxis_conditions, conditions_labels)})\n",
    "\n",
    "chemotaxis_df"
   ]
  },
  {
   "cell_type": "code",
   "execution_count": 6,
   "id": "92fdec2c",
   "metadata": {},
   "outputs": [
    {
     "data": {
      "image/png": "[encoded data removed]",
      "text/plain": [
       "<Figure size 432x432 with 1 Axes>"
      ]
     },
     "metadata": {
      "needs_background": "light"
     },
     "output_type": "display_data"
    }
   ],
   "source": [
    "sns.set_palette('muted', 3)\n",
    "\n",
    "fig, ax = plt.subplots(figsize=(6, 6))\n",
    "sns.boxplot(data=chemotaxis_df, x='day', y='fixed_distance', hue='condition', ax=ax)\n",
    "\n",
    "# Figure style\n",
    "ax.set_title(f'Distance traveled by cells in the presence\\nof PDGF-BB chemotactic gradients', y=1.02, \n",
    "             fontsize=13, fontweight='bold')\n",
    "\n",
    "ax.set_axisbelow(True)\n",
    "ax.grid(axis='y', c='lightgrey', linestyle='dashed')\n",
    "\n",
    "ax.set_xlabel('Time [days]', labelpad=10, fontsize=13)\n",
    "ax.set_ylabel('Traveled distance [$\\mu$m]', labelpad=10, fontsize=13)\n",
    "\n",
    "plt.legend(title='PDGF-BB Placement')\n",
    "sns.despine()"
   ]
  },
  {
   "cell_type": "markdown",
   "id": "0cf03929",
   "metadata": {},
   "source": [
    "### Save the data\n",
    "\n",
    "We will be saving the data as histograms in order to easily compute the BC between experimental and computational data. \n",
    "\n",
    "We will save a `.csv` file for each day."
   ]
  },
  {
   "cell_type": "code",
   "execution_count": 7,
   "id": "8062a999",
   "metadata": {},
   "outputs": [
    {
     "data": {
      "image/png": "[encoded data removed]",
      "text/plain": [
       "<Figure size 1152x216 with 4 Axes>"
      ]
     },
     "metadata": {
      "needs_background": "light"
     },
     "output_type": "display_data"
    }
   ],
   "source": [
    "# Define histogram bins\n",
    "distance_range = 650\n",
    "number_of_bins = 30\n",
    "bins = np.linspace(0, distance_range, number_of_bins)\n",
    "\n",
    "control_df = chemotaxis_df[chemotaxis_df['condition'] == 'Control'].copy()\n",
    "\n",
    "# Plot figure (each column represents a day)\n",
    "fig, axes = plt.subplots(1, 4, figsize=(16, 3), sharey=True, sharex=True)\n",
    "\n",
    "for i, ax in enumerate(axes):\n",
    "    distance_at_day = control_df[control_df['day'] == i+1]['fixed_distance']\n",
    "    weights = np.ones_like(distance_at_day) / len(distance_at_day)\n",
    "    hist, *metadata = ax.hist(distance_at_day, weights=weights, bins=bins, edgecolor='black')\n",
    "    ax.set_xlim(0, None)\n",
    "    ax.set_title(f'Time: {i+1} [days]')\n",
    "    ax.set_xlabel('Traveled distance [$\\mu$m]', labelpad=10)\n",
    "    ax.set_ylabel('Density', labelpad=10)\n",
    "    #np.savetxt(SAVE_PATH / f'chemo96_control_hist_day_{i+1}.csv', hist, delimiter=\",\")\n",
    "    \n",
    "sns.despine(fig)"
   ]
  },
  {
   "cell_type": "code",
   "execution_count": 8,
   "id": "664305e0",
   "metadata": {},
   "outputs": [
    {
     "data": {
      "image/png": "[encoded data removed]",
      "text/plain": [
       "<Figure size 1152x216 with 4 Axes>"
      ]
     },
     "metadata": {
      "needs_background": "light"
     },
     "output_type": "display_data"
    }
   ],
   "source": [
    "# Define histogram bins\n",
    "distance_range = 650\n",
    "number_of_bins = 30\n",
    "bins = np.linspace(0, distance_range, number_of_bins)\n",
    "\n",
    "control_df = chemotaxis_df[chemotaxis_df['condition'] == 'Monolayer chamber'].copy()\n",
    "\n",
    "# Plot figure (each column represents a day)\n",
    "fig, axes = plt.subplots(1, 4, figsize=(16, 3), sharey=True, sharex=True)\n",
    "\n",
    "for i, ax in enumerate(axes):\n",
    "    distance_at_day = control_df[control_df['day'] == i+1]['fixed_distance']\n",
    "    weights = np.ones_like(distance_at_day) / len(distance_at_day)\n",
    "    hist, *metadata = ax.hist(distance_at_day, weights=weights, bins=bins, edgecolor='black')\n",
    "    ax.set_xlim(0, None)\n",
    "    ax.set_title(f'Time: {i+1} [days]')\n",
    "    ax.set_xlabel('Traveled distance [$\\mu$m]', labelpad=10)\n",
    "    ax.set_ylabel('Density', labelpad=10)\n",
    "    #np.savetxt(SAVE_PATH / f'chemo96_cell_channel_hist_day_{i+1}.csv', hist, delimiter=\",\")\n",
    "    \n",
    "sns.despine(fig)"
   ]
  },
  {
   "cell_type": "code",
   "execution_count": 9,
   "id": "403bd976",
   "metadata": {},
   "outputs": [
    {
     "data": {
      "image/png": "[encoded data removed]",
      "text/plain": [
       "<Figure size 1152x216 with 4 Axes>"
      ]
     },
     "metadata": {
      "needs_background": "light"
     },
     "output_type": "display_data"
    }
   ],
   "source": [
    "# Define histogram bins\n",
    "distance_range = 650\n",
    "number_of_bins = 30\n",
    "bins = np.linspace(0, distance_range, number_of_bins)\n",
    "\n",
    "control_df = chemotaxis_df[chemotaxis_df['condition'] == 'Opposite chamber'].copy()\n",
    "\n",
    "# Plot figure (each column represents a day)\n",
    "fig, axes = plt.subplots(1, 4, figsize=(16, 3), sharey=True, sharex=True)\n",
    "\n",
    "for i, ax in enumerate(axes):\n",
    "    distance_at_day = control_df[control_df['day'] == i+1]['fixed_distance']\n",
    "    weights = np.ones_like(distance_at_day) / len(distance_at_day)\n",
    "    hist, *metadata = ax.hist(distance_at_day, weights=weights, bins=bins, edgecolor='black')\n",
    "    ax.set_xlim(0, None)\n",
    "    ax.set_title(f'Time: {i+1} [days]')\n",
    "    ax.set_xlabel('Traveled distance [$\\mu$m]', labelpad=10)\n",
    "    ax.set_ylabel('Density', labelpad=10)\n",
    "    #np.savetxt(SAVE_PATH / f'chemo96_opposite_channel_hist_day_{i+1}.csv', hist, delimiter=\",\")\n",
    "    \n",
    "sns.despine(fig)"
   ]
  },
  {
   "cell_type": "markdown",
   "id": "d440d2db",
   "metadata": {},
   "source": [
    "We can now repeat this process for the remaining data: 2.5 mg/mL matrix - 216 hours, and 4.0 mg/mL matrix - 96 hours.\n",
    "\n",
    "## 2.5 mg/mL matrix - 216 hours"
   ]
  },
  {
   "cell_type": "code",
   "execution_count": 15,
   "id": "099342a4",
   "metadata": {},
   "outputs": [
    {
     "data": {
      "text/html": [
       "<div>\n",
       "<style scoped>\n",
       "    .dataframe tbody tr th:only-of-type {\n",
       "        vertical-align: middle;\n",
       "    }\n",
       "\n",
       "    .dataframe tbody tr th {\n",
       "        vertical-align: top;\n",
       "    }\n",
       "\n",
       "    .dataframe thead th {\n",
       "        text-align: right;\n",
       "    }\n",
       "</style>\n",
       "<table border=\"1\" class=\"dataframe\">\n",
       "  <thead>\n",
       "    <tr style=\"text-align: right;\">\n",
       "      <th></th>\n",
       "      <th>day</th>\n",
       "      <th>distance</th>\n",
       "      <th>condition</th>\n",
       "      <th>fixed_distance</th>\n",
       "    </tr>\n",
       "  </thead>\n",
       "  <tbody>\n",
       "    <tr>\n",
       "      <th>301</th>\n",
       "      <td>1</td>\n",
       "      <td>72.45</td>\n",
       "      <td>Control</td>\n",
       "      <td>26.5650</td>\n",
       "    </tr>\n",
       "    <tr>\n",
       "      <th>302</th>\n",
       "      <td>1</td>\n",
       "      <td>66.01</td>\n",
       "      <td>Control</td>\n",
       "      <td>20.1250</td>\n",
       "    </tr>\n",
       "    <tr>\n",
       "      <th>303</th>\n",
       "      <td>1</td>\n",
       "      <td>59.57</td>\n",
       "      <td>Control</td>\n",
       "      <td>13.6850</td>\n",
       "    </tr>\n",
       "    <tr>\n",
       "      <th>304</th>\n",
       "      <td>1</td>\n",
       "      <td>59.57</td>\n",
       "      <td>Control</td>\n",
       "      <td>13.6850</td>\n",
       "    </tr>\n",
       "    <tr>\n",
       "      <th>305</th>\n",
       "      <td>1</td>\n",
       "      <td>66.01</td>\n",
       "      <td>Control</td>\n",
       "      <td>20.1250</td>\n",
       "    </tr>\n",
       "    <tr>\n",
       "      <th>...</th>\n",
       "      <td>...</td>\n",
       "      <td>...</td>\n",
       "      <td>...</td>\n",
       "      <td>...</td>\n",
       "    </tr>\n",
       "    <tr>\n",
       "      <th>6607</th>\n",
       "      <td>9</td>\n",
       "      <td>750.26</td>\n",
       "      <td>Opposite chamber</td>\n",
       "      <td>708.8025</td>\n",
       "    </tr>\n",
       "    <tr>\n",
       "      <th>6608</th>\n",
       "      <td>9</td>\n",
       "      <td>375.13</td>\n",
       "      <td>Opposite chamber</td>\n",
       "      <td>333.6725</td>\n",
       "    </tr>\n",
       "    <tr>\n",
       "      <th>6609</th>\n",
       "      <td>9</td>\n",
       "      <td>354.20</td>\n",
       "      <td>Opposite chamber</td>\n",
       "      <td>312.7425</td>\n",
       "    </tr>\n",
       "    <tr>\n",
       "      <th>6610</th>\n",
       "      <td>9</td>\n",
       "      <td>281.75</td>\n",
       "      <td>Opposite chamber</td>\n",
       "      <td>240.2925</td>\n",
       "    </tr>\n",
       "    <tr>\n",
       "      <th>6611</th>\n",
       "      <td>9</td>\n",
       "      <td>268.87</td>\n",
       "      <td>Opposite chamber</td>\n",
       "      <td>227.4125</td>\n",
       "    </tr>\n",
       "  </tbody>\n",
       "</table>\n",
       "<p>5545 rows × 4 columns</p>\n",
       "</div>"
      ],
      "text/plain": [
       "      day  distance         condition  fixed_distance\n",
       "301     1     72.45           Control         26.5650\n",
       "302     1     66.01           Control         20.1250\n",
       "303     1     59.57           Control         13.6850\n",
       "304     1     59.57           Control         13.6850\n",
       "305     1     66.01           Control         20.1250\n",
       "...   ...       ...               ...             ...\n",
       "6607    9    750.26  Opposite chamber        708.8025\n",
       "6608    9    375.13  Opposite chamber        333.6725\n",
       "6609    9    354.20  Opposite chamber        312.7425\n",
       "6610    9    281.75  Opposite chamber        240.2925\n",
       "6611    9    268.87  Opposite chamber        227.4125\n",
       "\n",
       "[5545 rows x 4 columns]"
      ]
     },
     "execution_count": 15,
     "metadata": {},
     "output_type": "execute_result"
    }
   ],
   "source": [
    "# Read and fix data\n",
    "chemotaxis_conditions = ['control_216h', 'factor_216h']\n",
    "conditions_labels = ['Control', 'Opposite chamber']\n",
    "\n",
    "chemotaxis_df = read_experimental_data(chemotaxis_conditions)\n",
    "chemotaxis_df = fix_distance_baseline(chemotaxis_df)\n",
    "\n",
    "# Fix the times at which the information was stored\n",
    "convert_days = {old: new \n",
    "                for old, new in zip(range(1, 9), [0, 1, 2, 3, 4, 7, 8, 9])}  \n",
    "\n",
    "chemotaxis_df['day'] = chemotaxis_df['day'].map(convert_days)\n",
    "chemotaxis_df = chemotaxis_df[chemotaxis_df['day'] != 0]\n",
    "\n",
    "# Rename conditions for consistency\n",
    "chemotaxis_df['condition'] = chemotaxis_df['condition'].map({condition: label \n",
    "                                                            for condition, label\n",
    "                                                            in zip(chemotaxis_conditions, conditions_labels)})\n",
    "\n",
    "chemotaxis_df"
   ]
  },
  {
   "cell_type": "code",
   "execution_count": 16,
   "id": "ea331cdf",
   "metadata": {
    "scrolled": true
   },
   "outputs": [
    {
     "data": {
      "image/png": "[encoded data removed]",
      "text/plain": [
       "<Figure size 432x432 with 1 Axes>"
      ]
     },
     "metadata": {
      "needs_background": "light"
     },
     "output_type": "display_data"
    }
   ],
   "source": [
    "# Plot fixed distance results\n",
    "fig, ax = plt.subplots(figsize=(6, 6))\n",
    "sns.boxplot(data=chemotaxis_df, x='day', y='fixed_distance', hue='condition', ax=ax)\n",
    "\n",
    "# Figure style\n",
    "ax.set_title(f'Distance traveled by cells in the presence\\nof PDGF-BB chemotactic gradients', y=1.02, \n",
    "             fontsize=13, fontweight='bold')\n",
    "\n",
    "ax.set_axisbelow(True)\n",
    "ax.grid(axis='y', c='lightgrey', linestyle='dashed')\n",
    "\n",
    "ax.set_xlabel('Time [days]', labelpad=10, fontsize=13)\n",
    "ax.set_ylabel('Traveled distance [$\\mu$m]', labelpad=10, fontsize=13)\n",
    "\n",
    "plt.legend(title='PDGF-BB Placement')\n",
    "sns.despine()"
   ]
  },
  {
   "cell_type": "markdown",
   "id": "a4894bca",
   "metadata": {},
   "source": [
    "### Save data"
   ]
  },
  {
   "cell_type": "code",
   "execution_count": 17,
   "id": "5fd5d878",
   "metadata": {},
   "outputs": [],
   "source": [
    "# Define histogram bins\n",
    "distance_range = 1450\n",
    "number_of_bins = 60\n",
    "bins = np.linspace(0, distance_range, number_of_bins)\n",
    "\n",
    "control_df = chemotaxis_df[chemotaxis_df['condition'] == 'Control'].copy()\n",
    "\n",
    "for i in range(10):\n",
    "    distance_at_day = control_df[control_df['day'] == i]['fixed_distance']\n",
    "    weights = np.ones_like(distance_at_day) / len(distance_at_day)\n",
    "    hist, bins = np.histogram(distance_at_day, weights=weights, bins=bins)\n",
    "    #np.savetxt(SAVE_PATH / f'chemo216_control_hist_day_{i}.csv', hist, delimiter=\",\")"
   ]
  },
  {
   "cell_type": "code",
   "execution_count": null,
   "id": "576950f7",
   "metadata": {},
   "outputs": [],
   "source": [
    "# Define histogram bins\n",
    "distance_range = 1450\n",
    "number_of_bins = 60\n",
    "bins = np.linspace(0, distance_range, number_of_bins)\n",
    "\n",
    "control_df = chemotaxis_df[chemotaxis_df['condition'] == 'Opposite chamber'].copy()\n",
    "\n",
    "for i in range(10):\n",
    "    distance_at_day = control_df[control_df['day'] == i]['fixed_distance']\n",
    "    weights = np.ones_like(distance_at_day) / len(distance_at_day)\n",
    "    hist, bins = np.histogram(distance_at_day, weights=weights, bins=bins)\n",
    "    #np.savetxt(SAVE_PATH / f'chemo216_opposite_hist_day_{i}.csv', hist, delimiter=\",\")"
   ]
  },
  {
   "cell_type": "markdown",
   "id": "38bfc4dd",
   "metadata": {},
   "source": [
    "## 4 mg/mL matrix - 96 hours"
   ]
  },
  {
   "cell_type": "code",
   "execution_count": 10,
   "id": "5ca168ad",
   "metadata": {},
   "outputs": [
    {
     "data": {
      "text/html": [
       "<div>\n",
       "<style scoped>\n",
       "    .dataframe tbody tr th:only-of-type {\n",
       "        vertical-align: middle;\n",
       "    }\n",
       "\n",
       "    .dataframe tbody tr th {\n",
       "        vertical-align: top;\n",
       "    }\n",
       "\n",
       "    .dataframe thead th {\n",
       "        text-align: right;\n",
       "    }\n",
       "</style>\n",
       "<table border=\"1\" class=\"dataframe\">\n",
       "  <thead>\n",
       "    <tr style=\"text-align: right;\">\n",
       "      <th></th>\n",
       "      <th>day</th>\n",
       "      <th>distance</th>\n",
       "      <th>condition</th>\n",
       "      <th>fixed_distance</th>\n",
       "    </tr>\n",
       "  </thead>\n",
       "  <tbody>\n",
       "    <tr>\n",
       "      <th>0</th>\n",
       "      <td>1</td>\n",
       "      <td>144.90</td>\n",
       "      <td>Control</td>\n",
       "      <td>116.3225</td>\n",
       "    </tr>\n",
       "    <tr>\n",
       "      <th>1</th>\n",
       "      <td>1</td>\n",
       "      <td>180.32</td>\n",
       "      <td>Control</td>\n",
       "      <td>151.7425</td>\n",
       "    </tr>\n",
       "    <tr>\n",
       "      <th>2</th>\n",
       "      <td>1</td>\n",
       "      <td>111.09</td>\n",
       "      <td>Control</td>\n",
       "      <td>82.5125</td>\n",
       "    </tr>\n",
       "    <tr>\n",
       "      <th>3</th>\n",
       "      <td>1</td>\n",
       "      <td>78.89</td>\n",
       "      <td>Control</td>\n",
       "      <td>50.3125</td>\n",
       "    </tr>\n",
       "    <tr>\n",
       "      <th>4</th>\n",
       "      <td>1</td>\n",
       "      <td>67.62</td>\n",
       "      <td>Control</td>\n",
       "      <td>39.0425</td>\n",
       "    </tr>\n",
       "    <tr>\n",
       "      <th>...</th>\n",
       "      <td>...</td>\n",
       "      <td>...</td>\n",
       "      <td>...</td>\n",
       "      <td>...</td>\n",
       "    </tr>\n",
       "    <tr>\n",
       "      <th>3435</th>\n",
       "      <td>4</td>\n",
       "      <td>172.27</td>\n",
       "      <td>Opposite channel</td>\n",
       "      <td>143.6925</td>\n",
       "    </tr>\n",
       "    <tr>\n",
       "      <th>3436</th>\n",
       "      <td>4</td>\n",
       "      <td>218.96</td>\n",
       "      <td>Opposite channel</td>\n",
       "      <td>190.3825</td>\n",
       "    </tr>\n",
       "    <tr>\n",
       "      <th>3437</th>\n",
       "      <td>4</td>\n",
       "      <td>652.05</td>\n",
       "      <td>Opposite channel</td>\n",
       "      <td>623.4725</td>\n",
       "    </tr>\n",
       "    <tr>\n",
       "      <th>3438</th>\n",
       "      <td>4</td>\n",
       "      <td>635.95</td>\n",
       "      <td>Opposite channel</td>\n",
       "      <td>607.3725</td>\n",
       "    </tr>\n",
       "    <tr>\n",
       "      <th>3439</th>\n",
       "      <td>4</td>\n",
       "      <td>679.42</td>\n",
       "      <td>Opposite channel</td>\n",
       "      <td>650.8425</td>\n",
       "    </tr>\n",
       "  </tbody>\n",
       "</table>\n",
       "<p>3560 rows × 4 columns</p>\n",
       "</div>"
      ],
      "text/plain": [
       "      day  distance         condition  fixed_distance\n",
       "0       1    144.90           Control        116.3225\n",
       "1       1    180.32           Control        151.7425\n",
       "2       1    111.09           Control         82.5125\n",
       "3       1     78.89           Control         50.3125\n",
       "4       1     67.62           Control         39.0425\n",
       "...   ...       ...               ...             ...\n",
       "3435    4    172.27  Opposite channel        143.6925\n",
       "3436    4    218.96  Opposite channel        190.3825\n",
       "3437    4    652.05  Opposite channel        623.4725\n",
       "3438    4    635.95  Opposite channel        607.3725\n",
       "3439    4    679.42  Opposite channel        650.8425\n",
       "\n",
       "[3560 rows x 4 columns]"
      ]
     },
     "execution_count": 10,
     "metadata": {},
     "output_type": "execute_result"
    }
   ],
   "source": [
    "# Read and fix data\n",
    "chemotaxis_conditions = ['4mg_control', '4mg_factor']\n",
    "conditions_labels = ['Control', 'Opposite channel']\n",
    "\n",
    "chemotaxis_df = read_experimental_data(chemotaxis_conditions)\n",
    "chemotaxis_df = fix_distance_baseline(chemotaxis_df)\n",
    "\n",
    "# Rename conditions for consistency\n",
    "chemotaxis_df['condition'] = chemotaxis_df['condition'].map({condition: label \n",
    "                                                            for condition, label\n",
    "                                                            in zip(chemotaxis_conditions, conditions_labels)})\n",
    "\n",
    "chemotaxis_df"
   ]
  },
  {
   "cell_type": "code",
   "execution_count": 11,
   "id": "b1e1a867",
   "metadata": {},
   "outputs": [
    {
     "data": {
      "image/png": "[encoded data removed]",
      "text/plain": [
       "<Figure size 432x432 with 1 Axes>"
      ]
     },
     "metadata": {
      "needs_background": "light"
     },
     "output_type": "display_data"
    }
   ],
   "source": [
    "# Plot fixed distance results\n",
    "fig, ax = plt.subplots(figsize=(6, 6))\n",
    "sns.boxplot(data=chemotaxis_df, x='day', y='fixed_distance', hue='condition', ax=ax)\n",
    "\n",
    "# Figure style\n",
    "\n",
    "ax.set_axisbelow(True)\n",
    "ax.grid(axis='y', c='lightgrey', linestyle='dashed')\n",
    "\n",
    "ax.set_title(f'Distance traveled by cells in the presence of PDGF-BB\\nchemotactic gradients (high density matrices)', y=1.02, \n",
    "             fontsize=13, fontweight='bold')\n",
    "    \n",
    "ax.set_xlabel('Time [days]', labelpad=10, fontsize=13)\n",
    "ax.set_ylabel('Traveled distance [$\\mu$m]', labelpad=10, fontsize=13)\n",
    "\n",
    "plt.legend(title='PDGF-BB Placement')\n",
    "\n",
    "sns.despine()"
   ]
  },
  {
   "cell_type": "code",
   "execution_count": 12,
   "id": "9fdd6c8c",
   "metadata": {},
   "outputs": [
    {
     "data": {
      "image/png": "[encoded data removed]",
      "text/plain": [
       "<Figure size 1152x216 with 4 Axes>"
      ]
     },
     "metadata": {
      "needs_background": "light"
     },
     "output_type": "display_data"
    }
   ],
   "source": [
    "# Define histogram bins\n",
    "distance_range = 650\n",
    "number_of_bins = 30\n",
    "bins = np.linspace(0, distance_range, number_of_bins)\n",
    "\n",
    "control_df = chemotaxis_df[chemotaxis_df['condition'] == 'Control'].copy()\n",
    "\n",
    "# Plot figure (each column represents a day)\n",
    "fig, axes = plt.subplots(1, 4, figsize=(16, 3), sharey=True, sharex=True)\n",
    "\n",
    "for i, ax in enumerate(axes):\n",
    "    distance_at_day = control_df[control_df['day'] == i+1]['fixed_distance']\n",
    "    weights = np.ones_like(distance_at_day) / len(distance_at_day)\n",
    "    hist, *metadata = ax.hist(distance_at_day, weights=weights, bins=bins, edgecolor='black')\n",
    "    ax.set_xlim(0, None)\n",
    "    ax.set_title(f'Time: {i+1} [days]')\n",
    "    ax.set_xlabel('Traveled distance [$\\mu$m]', labelpad=10)\n",
    "    ax.set_ylabel('Density', labelpad=10)\n",
    "    #np.savetxt(SAVE_PATH / f'4mg_control_hist_day_{i+1}.csv', hist, delimiter=\",\")\n",
    "    \n",
    "sns.despine(fig)"
   ]
  },
  {
   "cell_type": "code",
   "execution_count": 13,
   "id": "3cb3728d",
   "metadata": {},
   "outputs": [
    {
     "data": {
      "image/png": "[encoded data removed]",
      "text/plain": [
       "<Figure size 1152x216 with 4 Axes>"
      ]
     },
     "metadata": {
      "needs_background": "light"
     },
     "output_type": "display_data"
    }
   ],
   "source": [
    "# Define histogram bins\n",
    "distance_range = 650\n",
    "number_of_bins = 30\n",
    "bins = np.linspace(0, distance_range, number_of_bins)\n",
    "\n",
    "control_df = chemotaxis_df[chemotaxis_df['condition'] == 'Opposite channel'].copy()\n",
    "\n",
    "# Plot figure (each column represents a day)\n",
    "fig, axes = plt.subplots(1, 4, figsize=(16, 3), sharey=True, sharex=True)\n",
    "\n",
    "for i, ax in enumerate(axes):\n",
    "    distance_at_day = control_df[control_df['day'] == i+1]['fixed_distance']\n",
    "    weights = np.ones_like(distance_at_day) / len(distance_at_day)\n",
    "    hist, *metadata = ax.hist(distance_at_day, weights=weights, bins=bins, edgecolor='black')\n",
    "    ax.set_xlim(0, None)\n",
    "    ax.set_title(f'Time: {i+1} [days]')\n",
    "    ax.set_xlabel('Traveled distance [$\\mu$m]', labelpad=10)\n",
    "    ax.set_ylabel('Density', labelpad=10)\n",
    "    #np.savetxt(SAVE_PATH / f'4mg_opposite_channel_hist_day_{i+1}.csv', hist, delimiter=\",\")\n",
    "    \n",
    "sns.despine(fig)"
   ]
  }
 ],
 "metadata": {
  "kernelspec": {
   "display_name": "Python 3",
   "language": "python",
   "name": "python3"
  },
  "language_info": {
   "codemirror_mode": {
    "name": "ipython",
    "version": 3
   },
   "file_extension": ".py",
   "mimetype": "text/x-python",
   "name": "python",
   "nbconvert_exporter": "python",
   "pygments_lexer": "ipython3",
   "version": "3.8.10"
  }
 },
 "nbformat": 4,
 "nbformat_minor": 5
}
